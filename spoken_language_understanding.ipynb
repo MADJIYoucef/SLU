{
 "cells": [
  {
   "cell_type": "code",
   "execution_count": 413,
   "metadata": {
    "collapsed": true
   },
   "outputs": [],
   "source": [
    "import os, sys, json\n",
    "import numpy as np \n",
    "import pandas as pd\n",
    "import seaborn as sns\n",
    "import matplotlib.pyplot as plt\n",
    "from scipy import io\n",
    "from keras.preprocessing import sequence\n",
    "from keras.layers import Input,concatenate, merge, Dense, Dropout, Activation, RepeatVector, Permute, Reshape, RepeatVector, Flatten\n",
    "from keras.layers.convolutional import Convolution1D, MaxPooling1D, AveragePooling1D\n",
    "from keras.layers.embeddings import Embedding\n",
    "from keras.layers.recurrent import  GRU\n",
    "from keras.layers.wrappers import TimeDistributed\n",
    "from keras.optimizers import SGD, RMSprop, Adagrad, Adadelta, Adam, Adamax\n",
    "from keras import backend as K\n",
    "from keras.models import Model, Sequential\n",
    "from keras.layers import Dense, Activation, Dropout, Input, TimeDistributed, LSTM, Conv1D\n",
    "from keras.layers import GRU, Bidirectional, BatchNormalization, Reshape\n",
    "from keras.callbacks import EarlyStopping\n",
    "from sklearn.metrics import log_loss, classification_report,accuracy_score,f1_score\n",
    "%matplotlib inline"
   ]
  },
  {
   "cell_type": "code",
   "execution_count": 414,
   "metadata": {
    "collapsed": true
   },
   "outputs": [],
   "source": [
    "class Dictionary(object):\n",
    "    # to store the vocabulary\n",
    "    def __init__(self):\n",
    "        self.word2idx = {'<pad>': 0, '<unk>': 1}\n",
    "        self.idx2word = ['<pad>', '<unk>']\n",
    "        self.tag2idx = {'<pad>': 0, '<unk>': 1}\n",
    "        self.idx2tag = ['<pad>', '<unk>'] \n",
    "        self.word_vocab_size = 2 \n",
    "        self.tag_vocab_size  = 2\n",
    "\n",
    "    def add_word(self, word):\n",
    "        if word not in self.word2idx:\n",
    "            self.idx2word.append(word)\n",
    "            self.word2idx[word] = len(self.idx2word) - 1\n",
    "            self.word_vocab_size+=1\n",
    "        return self.word2idx[word]\n",
    "    \n",
    "    def add_tag(self, tag):\n",
    "        if tag not in self.tag2idx:\n",
    "            self.idx2tag.append(tag)\n",
    "            self.tag2idx[tag] = len(self.idx2tag) - 1\n",
    "            self.tag_vocab_size+=1\n",
    "        return self.tag2idx[tag]   \n",
    "\n",
    "    def __len__(self):\n",
    "        return len(self.idx2word)\n",
    "\n",
    "\n",
    "class SlotDataset(object):\n",
    "    \n",
    "    def __init__(self):\n",
    "        self.utterances = []\n",
    "        self.tags =[]\n",
    "        self.padded_utterances = []\n",
    "        self.padded_tags =[]\n",
    "        self.one_hot_tags =[]\n",
    "        \n",
    "    def add_utterance(self, utt):\n",
    "        self.utterances.append(utt)\n",
    "        \n",
    "    def add_slots(self, slots):\n",
    "        self.tags.append(slots)\n",
    "        \n",
    "    def pad_utts(self,time_length=100):\n",
    "        self.padded_utterances = sequence.pad_sequences(self.utterances, maxlen=time_length, dtype='int32', padding='pre')\n",
    "        return self.padded_utterances\n",
    "    \n",
    "    def pad_tags(self,time_length=100):\n",
    "        self.padded_tags = sequence.pad_sequences(self.tags, maxlen=time_length, dtype='int32', padding='pre')\n",
    "        return self.padded_tags\n",
    "    \n",
    "    def get_one_hot_tags(self,tag_vocab_size=100):\n",
    "        self.one_hot_tags =[]\n",
    "        for i,sentence  in  enumerate(self.padded_tags):\n",
    "            temp_sent = self.convert_to_one_hot(sentence,tag_vocab_size)\n",
    "            self.one_hot_tags.append(temp_sent)\n",
    "        self.one_hot_tags = np.array(self.one_hot_tags)\n",
    "        return self.one_hot_tags\n",
    "    \n",
    "    def convert_to_one_hot(self,Y, C):\n",
    "        Y = np.eye(C)[Y.reshape(-1)]\n",
    "        return Y\n",
    "    \n",
    "    def __len__(self):\n",
    "        return len(self.idx2word)\n",
    "\n",
    "\n",
    "class Corpus(object):\n",
    "    \n",
    "    def __init__(self, data_dir='data',embeddings_file=\"glove.6B.50d.txt\", train_file=\"atis-2.train.w-intent.iob\", valid_file=\"atis-2.dev.w-intent.iob\" ,test_file=\"atis.test.w-intent.iob\",):\n",
    "        self.train = SlotDataset()\n",
    "        self.valid = SlotDataset()\n",
    "        self.test = SlotDataset()\n",
    "        \n",
    "        self.dictionary = Dictionary()\n",
    "        #self.embeddings = GolveEmbbedings(os.path.join(data_dir, embeddings_file))\n",
    "        self.load_train(os.path.join(data_dir, train_file))\n",
    "        self.load_valid(os.path.join(data_dir, valid_file))\n",
    "        self.load_test(os.path.join(data_dir, test_file))\n",
    "        \n",
    "    def load_train(self, path):\n",
    "        for line in open(path, 'r'):\n",
    "            words=line.split('\\t')[0].strip().split()\n",
    "            tags=line.split('\\t')[1].strip().split()\n",
    "            temp_utt = list()\n",
    "            temp_tags = list()\n",
    "            for i in range(len(words)):\n",
    "                id_word = self.dictionary.add_word(words[i])\n",
    "                id_tag  = self.dictionary.add_tag(tags[i])\n",
    "                temp_utt.append(id_word)\n",
    "                temp_tags.append(id_tag)\n",
    "            self.train.add_utterance(np.array(temp_utt))\n",
    "            self.train.add_slots(np.array(temp_tags))\n",
    "    \n",
    "    def load_valid(self, path):\n",
    "        for line in open(path, 'r'):\n",
    "            words=line.split('\\t')[0].strip().split()\n",
    "            tags =line.split('\\t')[1].strip().split()\n",
    "            temp_utt = list()\n",
    "            temp_tags = list()\n",
    "            for i in range(len(words)):\n",
    "                if words[i] not in self.dictionary.word2idx :\n",
    "                    temp_utt.append(1) \n",
    "                else:\n",
    "                    temp_utt.append(self.dictionary.word2idx[words[i]])\n",
    "                if tags[i] not in self.dictionary.tag2idx :\n",
    "                    temp_tags.append(1) \n",
    "                else:\n",
    "                    temp_tags.append(self.dictionary.tag2idx[tags[i]])\n",
    "            self.valid.add_utterance(np.array(temp_utt))\n",
    "            self.valid.add_slots(np.array(temp_tags))\n",
    "            \n",
    "    def load_test(self, path):\n",
    "        for line in open(path, 'r'):\n",
    "            words=line.split('\\t')[0].strip().split()\n",
    "            tags =line.split('\\t')[1].strip().split()\n",
    "            temp_utt = list()\n",
    "            temp_tags = list()\n",
    "            for i in range(len(words)):\n",
    "                if words[i] not in self.dictionary.word2idx :\n",
    "                    temp_utt.append(1) \n",
    "                else:\n",
    "                    temp_utt.append(self.dictionary.word2idx[words[i]])\n",
    "                if tags[i] not in self.dictionary.tag2idx :\n",
    "                    temp_tags.append(1) \n",
    "                else:\n",
    "                    temp_tags.append(self.dictionary.tag2idx[tags[i]])\n",
    "            self.test.add_utterance(np.array(temp_utt))\n",
    "            self.test.add_slots(np.array(temp_tags))"
   ]
  },
  {
   "cell_type": "code",
   "execution_count": 415,
   "metadata": {
    "collapsed": true
   },
   "outputs": [],
   "source": [
    "class GolveEmbbedings(object): \n",
    "    \n",
    "    def __init__(self,file_name):\n",
    "        self.words,self.embeddings = self.loadEmbeddings(file_name)\n",
    "        \n",
    "    def loadEmbeddings(self, path):\n",
    "        with open(path, 'r') as f:\n",
    "            words = set()\n",
    "            word_to_vec_map = {}\n",
    "            for line in f:\n",
    "                line = line.strip().split()\n",
    "                curr_word = line[0]\n",
    "                words.add(curr_word)\n",
    "                word_to_vec_map[curr_word] = np.array(line[1:], dtype=np.float64)\n",
    "        return words, word_to_vec_map"
   ]
  },
  {
   "cell_type": "code",
   "execution_count": 416,
   "metadata": {},
   "outputs": [],
   "source": [
    "corpus = Corpus()"
   ]
  },
  {
   "cell_type": "code",
   "execution_count": 417,
   "metadata": {},
   "outputs": [
    {
     "data": {
      "text/plain": [
       "array([ 0,  0,  0,  0,  0,  0,  0,  0,  0,  0,  0,  0,  0,  0,  0,  0,  0,\n",
       "        0,  0,  0,  0,  0,  0,  0,  0,  0,  0,  2,  2,  2,  2,  2,  2,  2,\n",
       "        2,  2,  3,  2,  4, 21,  2,  2,  2,  2,  2, 15, 22,  7],\n",
       "      dtype=int32)"
      ]
     },
     "execution_count": 417,
     "metadata": {},
     "output_type": "execute_result"
    }
   ],
   "source": [
    "max_len  = max([ len(x) for x in  corpus.train.utterances])\n",
    "vocab_size = len(corpus.dictionary.word2idx)\n",
    "tag_vocab_size = len(corpus.dictionary.tag2idx)\n",
    "embedding_size = 50\n",
    "corpus.train.pad_utts(time_length=max_len)\n",
    "corpus.train.pad_tags(time_length=max_len)\n",
    "corpus.valid.pad_utts(time_length=max_len)\n",
    "corpus.valid.pad_tags(time_length=max_len)\n",
    "corpus.test.pad_utts(time_length=max_len)\n",
    "corpus.test.pad_tags(time_length=max_len)[0]"
   ]
  },
  {
   "cell_type": "code",
   "execution_count": 418,
   "metadata": {
    "collapsed": true
   },
   "outputs": [],
   "source": [
    "X_train = corpus.train.padded_utterances\n",
    "X_valid = corpus.valid.padded_utterances\n",
    "X_test = corpus.test.padded_utterances"
   ]
  },
  {
   "cell_type": "code",
   "execution_count": 419,
   "metadata": {},
   "outputs": [
    {
     "name": "stdout",
     "output_type": "stream",
     "text": [
      "[ 2  3  4  5  6  7  8  5  9 10 11 12]\n",
      "[2 2 2 2 2 2 3 2 4 5 6 7]\n"
     ]
    }
   ],
   "source": [
    "print(corpus.train.utterances[0])\n",
    "print(corpus.train.tags[0])"
   ]
  },
  {
   "cell_type": "code",
   "execution_count": 420,
   "metadata": {},
   "outputs": [
    {
     "name": "stdout",
     "output_type": "stream",
     "text": [
      "Train shape (4478, 48)\n",
      "Dev shape (500, 48)\n",
      "Test shape (893, 48)\n"
     ]
    }
   ],
   "source": [
    "print(\"Train shape \" + str(X_train.shape))\n",
    "print(\"Dev shape \" + str(X_valid.shape))\n",
    "print(\"Test shape \" + str(X_test.shape))\n"
   ]
  },
  {
   "cell_type": "code",
   "execution_count": 421,
   "metadata": {
    "collapsed": true
   },
   "outputs": [],
   "source": [
    "Y_train = corpus.train.get_one_hot_tags(tag_vocab_size)\n",
    "Y_valid = corpus.valid.get_one_hot_tags(tag_vocab_size)\n",
    "Y_test = corpus.test.get_one_hot_tags(tag_vocab_size)"
   ]
  },
  {
   "cell_type": "code",
   "execution_count": 422,
   "metadata": {},
   "outputs": [
    {
     "name": "stdout",
     "output_type": "stream",
     "text": [
      "Train label shape (4478, 48, 143)\n",
      "Dev label shape (500, 48, 143)\n",
      "Test label shape (893, 48, 143)\n"
     ]
    }
   ],
   "source": [
    "print(\"Train label shape \" + str(Y_train.shape))\n",
    "print(\"Dev label shape \" + str(Y_valid.shape))\n",
    "print(\"Test label shape \" + str(Y_test.shape))"
   ]
  },
  {
   "cell_type": "code",
   "execution_count": 252,
   "metadata": {},
   "outputs": [
    {
     "name": "stderr",
     "output_type": "stream",
     "text": [
      "/home/startup/anaconda3/lib/python3.6/site-packages/scipy/stats/stats.py:1713: FutureWarning: Using a non-tuple sequence for multidimensional indexing is deprecated; use `arr[tuple(seq)]` instead of `arr[seq]`. In the future this will be interpreted as an array index, `arr[np.array(seq)]`, which will result either in an error or a different result.\n",
      "  return np.add.reduce(sorted[indexer] * weights, axis=axis) / sumval\n",
      "/home/startup/anaconda3/lib/python3.6/site-packages/matplotlib/axes/_axes.py:6462: UserWarning: The 'normed' kwarg is deprecated, and has been replaced by the 'density' kwarg.\n",
      "  warnings.warn(\"The 'normed' kwarg is deprecated, and has been \"\n"
     ]
    },
    {
     "data": {
      "image/png": "[encoded data removed]",
      "text/plain": [
       "<Figure size 432x288 with 1 Axes>"
      ]
     },
     "metadata": {},
     "output_type": "display_data"
    }
   ],
   "source": [
    "dist_train =  pd.Series([x.shape[0] for x in corpus.train.utterances])\n",
    "sns.distplot(dist_train, hist=True, kde=True, color='b', label='doc len')\n",
    "plt.title('train query length'); plt.legend()\n",
    "plt.show()"
   ]
  },
  {
   "cell_type": "code",
   "execution_count": 253,
   "metadata": {},
   "outputs": [
    {
     "name": "stderr",
     "output_type": "stream",
     "text": [
      "/home/startup/anaconda3/lib/python3.6/site-packages/scipy/stats/stats.py:1713: FutureWarning: Using a non-tuple sequence for multidimensional indexing is deprecated; use `arr[tuple(seq)]` instead of `arr[seq]`. In the future this will be interpreted as an array index, `arr[np.array(seq)]`, which will result either in an error or a different result.\n",
      "  return np.add.reduce(sorted[indexer] * weights, axis=axis) / sumval\n",
      "/home/startup/anaconda3/lib/python3.6/site-packages/matplotlib/axes/_axes.py:6462: UserWarning: The 'normed' kwarg is deprecated, and has been replaced by the 'density' kwarg.\n",
      "  warnings.warn(\"The 'normed' kwarg is deprecated, and has been \"\n"
     ]
    },
    {
     "data": {
      "image/png": "[encoded data removed]",
      "text/plain": [
       "<Figure size 432x288 with 1 Axes>"
      ]
     },
     "metadata": {},
     "output_type": "display_data"
    }
   ],
   "source": [
    "dist_valid =  pd.Series([x.shape[0] for x in corpus.valid.utterances])\n",
    "sns.distplot(dist_valid, hist=True, kde=True, color='b', label='doc len')\n",
    "plt.title('valid query length'); plt.legend()\n",
    "plt.show()"
   ]
  },
  {
   "cell_type": "code",
   "execution_count": 254,
   "metadata": {},
   "outputs": [
    {
     "name": "stderr",
     "output_type": "stream",
     "text": [
      "/home/startup/anaconda3/lib/python3.6/site-packages/scipy/stats/stats.py:1713: FutureWarning: Using a non-tuple sequence for multidimensional indexing is deprecated; use `arr[tuple(seq)]` instead of `arr[seq]`. In the future this will be interpreted as an array index, `arr[np.array(seq)]`, which will result either in an error or a different result.\n",
      "  return np.add.reduce(sorted[indexer] * weights, axis=axis) / sumval\n",
      "/home/startup/anaconda3/lib/python3.6/site-packages/matplotlib/axes/_axes.py:6462: UserWarning: The 'normed' kwarg is deprecated, and has been replaced by the 'density' kwarg.\n",
      "  warnings.warn(\"The 'normed' kwarg is deprecated, and has been \"\n"
     ]
    },
    {
     "data": {
      "image/png": "[encoded data removed]",
      "text/plain": [
       "<Figure size 432x288 with 1 Axes>"
      ]
     },
     "metadata": {},
     "output_type": "display_data"
    }
   ],
   "source": [
    "dist_test =  pd.Series([x.shape[0] for x in corpus.test.utterances])\n",
    "sns.distplot(dist_test, hist=True, kde=True, color='b', label='doc len')\n",
    "plt.title('test query length'); plt.legend()\n",
    "plt.show()"
   ]
  },
  {
   "cell_type": "code",
   "execution_count": 411,
   "metadata": {},
   "outputs": [
    {
     "name": "stderr",
     "output_type": "stream",
     "text": [
      "/home/startup/anaconda3/lib/python3.6/site-packages/seaborn/categorical.py:1460: FutureWarning: remove_na is deprecated and is a private function. Do not use.\n",
      "  stat_data = remove_na(group_data)\n"
     ]
    },
    {
     "data": {
      "text/plain": [
       "<matplotlib.axes._subplots.AxesSubplot at 0x7fb04dbddc18>"
      ]
     },
     "execution_count": 411,
     "metadata": {},
     "output_type": "execute_result"
    },
    {
     "data": {
      "image/png": "[encoded data removed]",
      "text/plain": [
       "<Figure size 432x288 with 1 Axes>"
      ]
     },
     "metadata": {},
     "output_type": "display_data"
    }
   ],
   "source": [
    "df = pd.Series([x[0]for x in corpus3.train.tags])\n",
    "sns.countplot(df.values)"
   ]
  },
  {
   "cell_type": "code",
   "execution_count": 423,
   "metadata": {
    "collapsed": true
   },
   "outputs": [],
   "source": [
    "def recall(y_true, y_pred):\n",
    "    true_positives = K.sum(K.round(K.clip(y_true * y_pred, 0, 1)))\n",
    "    possible_positives = K.sum(K.round(K.clip(y_true, 0, 1)))\n",
    "    recall = true_positives / (possible_positives + K.epsilon())\n",
    "    return recall\n",
    "\n",
    "def precision(y_true, y_pred):\n",
    "\n",
    "    true_positives = K.sum(K.round(K.clip(y_true * y_pred, 0, 1)))\n",
    "    predicted_positives = K.sum(K.round(K.clip(y_pred, 0, 1)))\n",
    "    precision = true_positives / (predicted_positives + K.epsilon())\n",
    "    return precision\n",
    "\n",
    "def f1(y_true, y_pred):\n",
    "    def recall(y_true, y_pred):\n",
    "        \"\"\"Recall metric.\n",
    "        Only computes a batch-wise average of recall.\n",
    "        Computes the recall, a metric for multi-label classification of\n",
    "        how many relevant items are selected.\n",
    "        \"\"\"\n",
    "        true_positives = K.sum(K.round(K.clip(y_true * y_pred, 0, 1)))\n",
    "        possible_positives = K.sum(K.round(K.clip(y_true, 0, 1)))\n",
    "        recall = true_positives / (possible_positives + K.epsilon())\n",
    "        return recall\n",
    "\n",
    "    def precision(y_true, y_pred):\n",
    "        \"\"\"Precision metric.\n",
    "        Only computes a batch-wise average of precision.\n",
    "        Computes the precision, a metric for multi-label classification of\n",
    "        how many selected items are relevant.\n",
    "        \"\"\"\n",
    "        true_positives = K.sum(K.round(K.clip(y_true * y_pred, 0, 1)))\n",
    "        predicted_positives = K.sum(K.round(K.clip(y_pred, 0, 1)))\n",
    "        precision = true_positives / (predicted_positives + K.epsilon())\n",
    "        return precision\n",
    "    precision = precision(y_true, y_pred)\n",
    "    recall = recall(y_true, y_pred)\n",
    "    return 2*((precision*recall)/(precision+recall+K.epsilon()))"
   ]
  },
  {
   "cell_type": "code",
   "execution_count": 424,
   "metadata": {
    "collapsed": true
   },
   "outputs": [],
   "source": [
    "class SlotFilingModel(object):\n",
    "    \n",
    "    def __init__(self, vocab_size, tag_vocab_size, max_length_sequence, embedding_size,idx2tags,model_path, batch_size= 32, nb_epochs=10, early_stop=True):\n",
    "        self.model = self.model(vocab_size,tag_vocab_size,max_length_sequence,embedding_size)\n",
    "        self.model_path = model_path+'.h5'\n",
    "        self.batch_size =batch_size\n",
    "        self.nb_epochs = nb_epochs\n",
    "        self.loss = 'categorical_crossentropy'\n",
    "        self.optimizer = 'adam'\n",
    "        self.early_stop = early_stop\n",
    "        self.idx2tags = idx2tags\n",
    "        self.model.compile(loss=self.loss, optimizer=self.optimizer, metrics=['accuracy',f1,recall,precision])\n",
    "        self.model.summary()\n",
    "    \n",
    "    def model(self,vocab_size,tag_vocab_size,max_length_sequence,embedding_size):\n",
    "        pass\n",
    "    \n",
    "    def fit(self,X_train,Y_train,X_valid,Y_valid):\n",
    "        early_stopping = EarlyStopping(monitor='val_loss',min_delta=0.01,patience=4,verbose=1)\n",
    "        callbacks_list = [early_stopping]\n",
    "        if self.early_stop :\n",
    "            self.model.fit(X_train,Y_train,batch_size=self.batch_size,epochs=self.nb_epochs,callbacks=callbacks_list,validation_data=[X_valid,Y_valid],shuffle=True)\n",
    "        else:\n",
    "            self.model.fit(X_train,Y_train,batch_size=self.batch_size,epochs=self.nb_epochs,validation_data=[X_valid,Y_valid],shuffle=True)\n",
    "        self.save(self.model_path)\n",
    "        \n",
    "    def evaluate(self,X,Y):\n",
    "        if os.path.exists(self.model_path):\n",
    "            self.load(self.model_path)\n",
    "        loss, acc,f1,recall,precision = self.model.evaluate(X, Y)\n",
    "        print(\"accuracy = {} - f1-score = {} - recall = {} - precision = {}\".format(acc,f1,recall,precision))        \n",
    "        \n",
    "    def predict(self,X):\n",
    "        if os.path.exists(self.model_path):\n",
    "            self.load(self.model_path)\n",
    "        res = []\n",
    "        preds = self.model.predict(X) \n",
    "        for exemple in preds :\n",
    "            res_temp = []\n",
    "            for timestamp in exemple :\n",
    "                res_temp.append(self.idx2tags[np.argmax(timestamp)])\n",
    "            res.append(res_temp)    \n",
    "        return res\n",
    "    \n",
    "    def predict_no_padding(self,X,Y):\n",
    "        if os.path.exists(self.model_path):\n",
    "            self.load(self.model_path)\n",
    "        preds = self.model.predict(X)\n",
    "        res_total = []\n",
    "        pre_total = []\n",
    "        res_intent = []\n",
    "        pre_intent = []\n",
    "        res_slot = []\n",
    "        pre_slot = []\n",
    "        cpt = 0\n",
    "        p=0\n",
    "        for i,y in enumerate(Y):\n",
    "            for j,a in enumerate(y):\n",
    "                t = np.argmax(a)\n",
    "                if t != 0:\n",
    "                    if np.argmax(Y[i][j]) == 2 :\n",
    "                        p+=1\n",
    "                    if X[i][j] == 12:\n",
    "                        res_intent.append(t)\n",
    "                        pre_intent.append(np.argmax(preds[i][j]))\n",
    "                    else :\n",
    "                        res_slot.append(t)\n",
    "                        pre_slot.append(np.argmax(preds[i][j]))\n",
    "                    res_total.append(t)\n",
    "                    pre_total.append(np.argmax(preds[i][j]))\n",
    "                else:\n",
    "                    cpt+=1\n",
    "        print(\"Pourcentage de la classe <pad> :\",cpt/(len(X[0])*len(X)))\n",
    "        print(\"Pourcentage de la classe O :\",p/(len(Y[0])*len(Y)))\n",
    "        print(\"Accuracy totale :\",accuracy_score(res_total,pre_total))\n",
    "        print(\"F1 score totale :\",f1_score(res_total,pre_total,average='weighted'))\n",
    "        print(\"Accuracy intent :\",accuracy_score(res_intent,pre_intent))\n",
    "        print(\"F1 score intent :\",f1_score(res_intent,pre_intent,average='weighted'))\n",
    "        print(\"Accuracy slot :\",accuracy_score(res_slot,pre_slot))\n",
    "        print(\"F1 score slot :\",f1_score(res_slot,pre_slot,average='weighted'))\n",
    "        print('--------------------------------------------------')\n",
    "    \n",
    "    def load(self, name):\n",
    "        self.model.load_weights(name)\n",
    "\n",
    "    def save(self, name):\n",
    "        self.model.save_weights(name)\n"
   ]
  },
  {
   "cell_type": "markdown",
   "metadata": {},
   "source": [
    "# Baselines"
   ]
  },
  {
   "cell_type": "markdown",
   "metadata": {},
   "source": [
    "## 2 Layers GRU :"
   ]
  },
  {
   "cell_type": "code",
   "execution_count": 203,
   "metadata": {
    "collapsed": true
   },
   "outputs": [],
   "source": [
    "class TwoGruModel(SlotFilingModel):\n",
    "    \n",
    "    def __init__(self, vocab_size, tag_vocab_size, max_length_sequence, embedding_size,idx2tags,model_path, batch_size= 32, nb_epochs=10, early_stop=True):\n",
    "        super().__init__(vocab_size, tag_vocab_size, max_length_sequence, embedding_size,idx2tags,model_path, batch_size= 32, nb_epochs=10, early_stop=True)\n",
    "        \n",
    "    def model(self,vocab_size,tag_vocab_size,max_length_sequence,embedding_size):\n",
    "        \n",
    "        X_input = Input(shape=(max_length_sequence,), dtype='int32')\n",
    "        X = Embedding(input_dim=vocab_size, output_dim=embedding_size, input_length=max_length_sequence, mask_zero = True)(X_input)\n",
    "        \n",
    "        X = GRU(units = 150, return_sequences = True)(X)    # GRU (use 150 units and return the sequences)\n",
    "        X = Dropout(0.8)(X)                                 # dropout (use 0.8)\n",
    "        X = BatchNormalization()(X)                         # Batch normalization\n",
    "\n",
    "        X = GRU(units = 150, return_sequences = True)(X)    # GRU (use 150 units and return the sequences)\n",
    "        X = Dropout(0.8)(X)                                 # dropout (use 0.8)\n",
    "        X = BatchNormalization()(X)                         # Batch normalization\n",
    "        X = Dropout(0.8)(X)                                 # dropout (use 0.8)\n",
    "\n",
    "        X = TimeDistributed(Dense(tag_vocab_size, activation = \"softmax\"))(X) # time distributed  (sigmoid)\n",
    "        model = Model(inputs = X_input, outputs = X)\n",
    "        return model \n",
    "\n",
    "    "
   ]
  },
  {
   "cell_type": "code",
   "execution_count": 260,
   "metadata": {
    "scrolled": true
   },
   "outputs": [
    {
     "name": "stdout",
     "output_type": "stream",
     "text": [
      "_________________________________________________________________\n",
      "Layer (type)                 Output Shape              Param #   \n",
      "=================================================================\n",
      "input_45 (InputLayer)        (None, 48)                0         \n",
      "_________________________________________________________________\n",
      "embedding_45 (Embedding)     (None, 48, 50)            43550     \n",
      "_________________________________________________________________\n",
      "gru_67 (GRU)                 (None, 48, 150)           90450     \n",
      "_________________________________________________________________\n",
      "dropout_13 (Dropout)         (None, 48, 150)           0         \n",
      "_________________________________________________________________\n",
      "batch_normalization_9 (Batch (None, 48, 150)           600       \n",
      "_________________________________________________________________\n",
      "gru_68 (GRU)                 (None, 48, 150)           135450    \n",
      "_________________________________________________________________\n",
      "dropout_14 (Dropout)         (None, 48, 150)           0         \n",
      "_________________________________________________________________\n",
      "batch_normalization_10 (Batc (None, 48, 150)           600       \n",
      "_________________________________________________________________\n",
      "dropout_15 (Dropout)         (None, 48, 150)           0         \n",
      "_________________________________________________________________\n",
      "time_distributed_42 (TimeDis (None, 48, 143)           21593     \n",
      "=================================================================\n",
      "Total params: 292,243\n",
      "Trainable params: 291,643\n",
      "Non-trainable params: 600\n",
      "_________________________________________________________________\n"
     ]
    }
   ],
   "source": [
    "model_gru = TwoGruModel(vocab_size,tag_vocab_size,max_len,embedding_size,corpus.dictionary.idx2tag,\"two_gru_model\")"
   ]
  },
  {
   "cell_type": "code",
   "execution_count": 261,
   "metadata": {
    "scrolled": true
   },
   "outputs": [
    {
     "name": "stdout",
     "output_type": "stream",
     "text": [
      "Train on 4478 samples, validate on 500 samples\n",
      "Epoch 1/10\n",
      "4478/4478 [==============================] - 68s 15ms/step - loss: 4.0728 - acc: 0.3949 - f1: 0.1536 - recall: 0.0878 - precision: 0.6266 - val_loss: 1.2732 - val_acc: 0.7726 - val_f1: 0.3233 - val_recall: 0.1960 - val_precision: 0.9261\n",
      "Epoch 2/10\n",
      "4478/4478 [==============================] - 56s 12ms/step - loss: 1.6185 - acc: 0.6981 - f1: 0.2807 - recall: 0.1656 - precision: 0.9234 - val_loss: 0.9835 - val_acc: 0.7908 - val_f1: 0.3541 - val_recall: 0.2174 - val_precision: 0.9565\n",
      "Epoch 3/10\n",
      "4478/4478 [==============================] - 58s 13ms/step - loss: 1.2783 - acc: 0.7459 - f1: 0.3067 - recall: 0.1835 - precision: 0.9343 - val_loss: 0.8706 - val_acc: 0.8258 - val_f1: 0.3551 - val_recall: 0.2180 - val_precision: 0.9592\n",
      "Epoch 4/10\n",
      "4478/4478 [==============================] - 53s 12ms/step - loss: 1.1182 - acc: 0.7670 - f1: 0.3200 - recall: 0.1928 - precision: 0.9419 - val_loss: 0.7939 - val_acc: 0.8396 - val_f1: 0.3641 - val_recall: 0.2246 - val_precision: 0.9627\n",
      "Epoch 5/10\n",
      "4478/4478 [==============================] - 63s 14ms/step - loss: 1.0178 - acc: 0.7821 - f1: 0.3269 - recall: 0.1979 - precision: 0.9422 - val_loss: 0.7377 - val_acc: 0.8556 - val_f1: 0.3642 - val_recall: 0.2248 - val_precision: 0.9605\n",
      "Epoch 6/10\n",
      "4478/4478 [==============================] - 57s 13ms/step - loss: 0.9587 - acc: 0.7902 - f1: 0.3309 - recall: 0.2007 - precision: 0.9430 - val_loss: 0.6778 - val_acc: 0.8704 - val_f1: 0.3647 - val_recall: 0.2251 - val_precision: 0.9620\n",
      "Epoch 7/10\n",
      "4478/4478 [==============================] - 50s 11ms/step - loss: 0.9140 - acc: 0.7958 - f1: 0.3334 - recall: 0.2026 - precision: 0.9418 - val_loss: 0.6342 - val_acc: 0.8811 - val_f1: 0.3667 - val_recall: 0.2267 - val_precision: 0.9608\n",
      "Epoch 8/10\n",
      "4478/4478 [==============================] - 49s 11ms/step - loss: 0.8757 - acc: 0.8025 - f1: 0.3359 - recall: 0.2046 - precision: 0.9405 - val_loss: 0.5949 - val_acc: 0.8884 - val_f1: 0.3685 - val_recall: 0.2280 - val_precision: 0.9631\n",
      "Epoch 9/10\n",
      "4478/4478 [==============================] - 50s 11ms/step - loss: 0.8408 - acc: 0.8074 - f1: 0.3385 - recall: 0.2065 - precision: 0.9410 - val_loss: 0.5685 - val_acc: 0.8895 - val_f1: 0.3747 - val_recall: 0.2329 - val_precision: 0.9598\n",
      "Epoch 10/10\n",
      "4478/4478 [==============================] - 49s 11ms/step - loss: 0.8116 - acc: 0.8108 - f1: 0.3406 - recall: 0.2081 - precision: 0.9404 - val_loss: 0.5333 - val_acc: 0.8948 - val_f1: 0.3762 - val_recall: 0.2340 - val_precision: 0.9622\n"
     ]
    }
   ],
   "source": [
    "model_gru.fit(X_train,Y_train,X_valid,Y_valid)"
   ]
  },
  {
   "cell_type": "code",
   "execution_count": 262,
   "metadata": {},
   "outputs": [
    {
     "name": "stdout",
     "output_type": "stream",
     "text": [
      "Pourcentage de la classe <pad> : 0.7445408734602463\n",
      "Accuracy totale : 0.8864840182648401\n",
      "F1 score totale : 0.13399515354996552\n",
      "Accuracy intent : 0.7077267637178052\n",
      "F1 score intent : 0.04875602700096432\n",
      "Accuracy slot : 0.9023565675648801\n",
      "F1 score slot : 0.1463895821233685\n"
     ]
    },
    {
     "name": "stderr",
     "output_type": "stream",
     "text": [
      "/home/startup/anaconda3/lib/python3.6/site-packages/sklearn/metrics/classification.py:1135: UndefinedMetricWarning: F-score is ill-defined and being set to 0.0 in labels with no predicted samples.\n",
      "  'precision', 'predicted', average, warn_for)\n",
      "/home/startup/anaconda3/lib/python3.6/site-packages/sklearn/metrics/classification.py:1137: UndefinedMetricWarning: F-score is ill-defined and being set to 0.0 in labels with no true samples.\n",
      "  'recall', 'true', average, warn_for)\n"
     ]
    }
   ],
   "source": [
    "model_gru.predict_no_padding(X_test,Y_test)"
   ]
  },
  {
   "cell_type": "code",
   "execution_count": 263,
   "metadata": {},
   "outputs": [
    {
     "name": "stdout",
     "output_type": "stream",
     "text": [
      "893/893 [==============================] - 4s 4ms/step\n",
      "accuracy = 0.8858357752691057 - f1-score = 0.34744741661684775 - recall = 0.21327921955075535 - precision = 0.9514032573609176\n"
     ]
    }
   ],
   "source": [
    "model_gru.evaluate(X_test,Y_test)"
   ]
  },
  {
   "cell_type": "code",
   "execution_count": 264,
   "metadata": {},
   "outputs": [
    {
     "name": "stdout",
     "output_type": "stream",
     "text": [
      "Exemple source: O O O O O O O O O O B-depart_date.day_name B-depart_time.time_relative B-depart_time.time I-depart_time.time O B-fromloc.city_name O O B-toloc.city_name I-toloc.city_name I-toloc.city_name atis_flight_no\n",
      "Exemple prédit: O O O O O O O O O O B-depart_date.day_name B-airline_name B-depart_time.time I-depart_time.time O B-fromloc.city_name O O B-toloc.city_name I-toloc.city_name I-toloc.city_name atis_flight\n"
     ]
    }
   ],
   "source": [
    "idx_test = 500\n",
    "ex = [corpus.dictionary.idx2tag[x] for x in corpus.test.padded_tags[idx_test] if corpus.dictionary.idx2tag[x] !='<pad>']\n",
    "ind = len(ex)\n",
    "pred = [x for x in model_gru.predict(X_test)[idx_test]]\n",
    "print(\"Exemple source:\", ' '.join(ex))\n",
    "print(\"Exemple prédit:\",' '.join(pred[48-ind:]))"
   ]
  },
  {
   "cell_type": "markdown",
   "metadata": {},
   "source": [
    "## Bidirectional LSTM"
   ]
  },
  {
   "cell_type": "code",
   "execution_count": 425,
   "metadata": {
    "collapsed": true
   },
   "outputs": [],
   "source": [
    "class BidirectionalLSTMModel(SlotFilingModel):\n",
    "    \n",
    "    def __init__(self, vocab_size, tag_vocab_size, max_length_sequence, embedding_size,idx2tags,model_path, batch_size= 32, nb_epochs=10, early_stop=True):\n",
    "        super().__init__(vocab_size, tag_vocab_size, max_length_sequence, embedding_size,idx2tags,model_path, batch_size= 32, nb_epochs=10, early_stop=True)\n",
    "        \n",
    "    def model(self,vocab_size,tag_vocab_size,max_length_sequence,embedding_size):\n",
    "        X_input = Input(shape=(max_length_sequence,), dtype='int32')\n",
    "        X = Embedding(input_dim=vocab_size, output_dim=embedding_size, input_length=max_length_sequence, mask_zero = True)(X_input)\n",
    "        A = LSTM(100, return_sequences=True, init='glorot_uniform', activation='relu')(X)\n",
    "        B = LSTM(100, return_sequences=True, init='glorot_uniform', activation='relu', go_backwards=True)(X)\n",
    "        res = concatenate([A, B])\n",
    "        output = TimeDistributed(Dense(tag_vocab_size, activation = \"softmax\"))(res) # time distributed  (sigmoid)\n",
    "        model = Model(inputs = X_input, outputs = output)\n",
    "        return model"
   ]
  },
  {
   "cell_type": "code",
   "execution_count": 426,
   "metadata": {},
   "outputs": [
    {
     "name": "stderr",
     "output_type": "stream",
     "text": [
      "/home/startup/anaconda3/lib/python3.6/site-packages/ipykernel_launcher.py:9: UserWarning: Update your `LSTM` call to the Keras 2 API: `LSTM(100, return_sequences=True, activation=\"relu\", kernel_initializer=\"glorot_uniform\")`\n",
      "  if __name__ == '__main__':\n",
      "/home/startup/anaconda3/lib/python3.6/site-packages/ipykernel_launcher.py:10: UserWarning: Update your `LSTM` call to the Keras 2 API: `LSTM(100, return_sequences=True, activation=\"relu\", go_backwards=True, kernel_initializer=\"glorot_uniform\")`\n",
      "  # Remove the CWD from sys.path while we load stuff.\n"
     ]
    },
    {
     "name": "stdout",
     "output_type": "stream",
     "text": [
      "__________________________________________________________________________________________________\n",
      "Layer (type)                    Output Shape         Param #     Connected to                     \n",
      "==================================================================================================\n",
      "input_60 (InputLayer)           (None, 48)           0                                            \n",
      "__________________________________________________________________________________________________\n",
      "embedding_60 (Embedding)        (None, 48, 50)       43550       input_60[0][0]                   \n",
      "__________________________________________________________________________________________________\n",
      "lstm_15 (LSTM)                  (None, 48, 100)      60400       embedding_60[0][0]               \n",
      "__________________________________________________________________________________________________\n",
      "lstm_16 (LSTM)                  (None, 48, 100)      60400       embedding_60[0][0]               \n",
      "__________________________________________________________________________________________________\n",
      "concatenate_52 (Concatenate)    (None, 48, 200)      0           lstm_15[0][0]                    \n",
      "                                                                 lstm_16[0][0]                    \n",
      "__________________________________________________________________________________________________\n",
      "time_distributed_53 (TimeDistri (None, 48, 143)      28743       concatenate_52[0][0]             \n",
      "==================================================================================================\n",
      "Total params: 193,093\n",
      "Trainable params: 193,093\n",
      "Non-trainable params: 0\n",
      "__________________________________________________________________________________________________\n"
     ]
    }
   ],
   "source": [
    "model_blstm = BidirectionalLSTMModel(vocab_size,tag_vocab_size,max_len,embedding_size,corpus.dictionary.idx2tag,\"blstm_model\")"
   ]
  },
  {
   "cell_type": "code",
   "execution_count": 427,
   "metadata": {},
   "outputs": [
    {
     "name": "stdout",
     "output_type": "stream",
     "text": [
      "Train on 4478 samples, validate on 500 samples\n",
      "Epoch 1/10\n",
      "4478/4478 [==============================] - 46s 10ms/step - loss: 2.5422 - acc: 0.6109 - f1: 0.1248 - recall: 0.0871 - precision: 0.3108 - val_loss: 1.5932 - val_acc: 0.6518 - val_f1: 0.1858 - val_recall: 0.1469 - val_precision: 0.2537\n",
      "Epoch 2/10\n",
      "4478/4478 [==============================] - 37s 8ms/step - loss: 1.0190 - acc: 0.7787 - f1: 0.2614 - recall: 0.1990 - precision: 0.3914 - val_loss: 0.7704 - val_acc: 0.8273 - val_f1: 0.3305 - val_recall: 0.2158 - val_precision: 0.7108\n",
      "Epoch 3/10\n",
      "4478/4478 [==============================] - 46s 10ms/step - loss: 0.5632 - acc: 0.8669 - f1: 0.3612 - recall: 0.2266 - precision: 0.9023 - val_loss: 0.5197 - val_acc: 0.8758 - val_f1: 0.3720 - val_recall: 0.2310 - val_precision: 0.9578\n",
      "Epoch 4/10\n",
      "4478/4478 [==============================] - 35s 8ms/step - loss: 0.3729 - acc: 0.9132 - f1: 0.3852 - recall: 0.2406 - precision: 0.9692 - val_loss: 0.3780 - val_acc: 0.9171 - val_f1: 0.3896 - val_recall: 0.2438 - val_precision: 0.9719\n",
      "Epoch 5/10\n",
      "4478/4478 [==============================] - 34s 8ms/step - loss: 0.2613 - acc: 0.9383 - f1: 0.4001 - recall: 0.2520 - precision: 0.9741 - val_loss: 0.2975 - val_acc: 0.9304 - val_f1: 0.4005 - val_recall: 0.2528 - val_precision: 0.9656\n",
      "Epoch 6/10\n",
      "4478/4478 [==============================] - 36s 8ms/step - loss: 0.2031 - acc: 0.9526 - f1: 0.4075 - recall: 0.2576 - precision: 0.9765 - val_loss: 0.2502 - val_acc: 0.9421 - val_f1: 0.4070 - val_recall: 0.2579 - val_precision: 0.9679\n",
      "Epoch 7/10\n",
      "4478/4478 [==============================] - 42s 9ms/step - loss: 0.1579 - acc: 0.9625 - f1: 0.4134 - recall: 0.2622 - precision: 0.9799 - val_loss: 0.2080 - val_acc: 0.9527 - val_f1: 0.4128 - val_recall: 0.2621 - val_precision: 0.9733\n",
      "Epoch 8/10\n",
      "4478/4478 [==============================] - 42s 9ms/step - loss: 0.1283 - acc: 0.9690 - f1: 0.4169 - recall: 0.2649 - precision: 0.9815 - val_loss: 0.1900 - val_acc: 0.9563 - val_f1: 0.4144 - val_recall: 0.2635 - val_precision: 0.9716\n",
      "Epoch 9/10\n",
      "4478/4478 [==============================] - 34s 8ms/step - loss: 0.1029 - acc: 0.9748 - f1: 0.4190 - recall: 0.2672 - precision: 0.9736 - val_loss: 0.1673 - val_acc: 0.9614 - val_f1: 0.4153 - val_recall: 0.2657 - val_precision: 0.9530\n",
      "Epoch 10/10\n",
      "4478/4478 [==============================] - 34s 8ms/step - loss: 0.0878 - acc: 0.9787 - f1: 0.4199 - recall: 0.2688 - precision: 0.9621 - val_loss: 0.1533 - val_acc: 0.9653 - val_f1: 0.4165 - val_recall: 0.2671 - val_precision: 0.9483\n"
     ]
    }
   ],
   "source": [
    "model_blstm.fit(X_train,Y_train,X_valid,Y_valid)"
   ]
  },
  {
   "cell_type": "code",
   "execution_count": 428,
   "metadata": {},
   "outputs": [
    {
     "name": "stdout",
     "output_type": "stream",
     "text": [
      "Pourcentage de la classe <pad> : 0.7445408734602463\n",
      "Pourcentage de la classe O : 0.14916946621873833\n",
      "Accuracy totale : 0.9541552511415525\n",
      "F1 score totale : 0.9470752686674803\n",
      "Accuracy intent : 0.8499440089585666\n",
      "F1 score intent : 0.8144014806131975\n",
      "Accuracy slot : 0.9634085711444765\n",
      "F1 score slot : 0.9588558884082055\n",
      "--------------------------------------------------\n"
     ]
    },
    {
     "name": "stderr",
     "output_type": "stream",
     "text": [
      "/home/startup/anaconda3/lib/python3.6/site-packages/sklearn/metrics/classification.py:1135: UndefinedMetricWarning: F-score is ill-defined and being set to 0.0 in labels with no predicted samples.\n",
      "  'precision', 'predicted', average, warn_for)\n",
      "/home/startup/anaconda3/lib/python3.6/site-packages/sklearn/metrics/classification.py:1137: UndefinedMetricWarning: F-score is ill-defined and being set to 0.0 in labels with no true samples.\n",
      "  'recall', 'true', average, warn_for)\n"
     ]
    }
   ],
   "source": [
    "model_blstm.predict_no_padding(X_test,Y_test)"
   ]
  },
  {
   "cell_type": "code",
   "execution_count": 429,
   "metadata": {},
   "outputs": [
    {
     "name": "stdout",
     "output_type": "stream",
     "text": [
      "893/893 [==============================] - 2s 3ms/step\n",
      "accuracy = 0.9541042330283734 - f1-score = 0.38363249241171066 - recall = 0.24106476742102612 - precision = 0.9556385688525432\n"
     ]
    }
   ],
   "source": [
    "model_blstm.evaluate(X_test,Y_test)"
   ]
  },
  {
   "cell_type": "code",
   "execution_count": 431,
   "metadata": {},
   "outputs": [
    {
     "name": "stdout",
     "output_type": "stream",
     "text": [
      "48\n",
      "Exemple source: O O O O O O O O O O B-depart_date.day_name B-depart_time.time_relative B-depart_time.time I-depart_time.time O B-fromloc.city_name O O B-toloc.city_name I-toloc.city_name I-toloc.city_name atis_flight_no\n",
      "Exemple prédit: O O O O O O O O O O B-depart_date.day_name B-depart_time.time_relative B-depart_time.time I-depart_time.time O B-fromloc.city_name O O B-toloc.city_name I-toloc.city_name I-toloc.city_name atis_flight\n"
     ]
    }
   ],
   "source": [
    "idx_test = 500\n",
    "ex = [corpus.dictionary.idx2tag[x] for x in corpus.test.padded_tags[idx_test] if corpus.dictionary.idx2tag[x] !='<pad>']\n",
    "ind = len(ex)\n",
    "pred = [x for x in model_blstm.predict(X_test)[idx_test]]\n",
    "print(\"Exemple source:\", ' '.join(ex))\n",
    "print(\"Exemple prédit:\",' '.join(pred[48-ind:]))"
   ]
  },
  {
   "cell_type": "markdown",
   "metadata": {},
   "source": [
    "## Sequence to Sequence Model"
   ]
  },
  {
   "cell_type": "code",
   "execution_count": 313,
   "metadata": {
    "collapsed": true
   },
   "outputs": [],
   "source": [
    "class SeqToSeqModel(SlotFilingModel):\n",
    "    \n",
    "    def __init__(self, vocab_size, tag_vocab_size, max_length_sequence, embedding_size,idx2tags,model_path, batch_size= 32, nb_epochs=20, early_stop=True):\n",
    "        super().__init__(vocab_size, tag_vocab_size, max_length_sequence, embedding_size,idx2tags,model_path, batch_size= 32, nb_epochs=25, early_stop=True)\n",
    "        \n",
    "    def model(self,vocab_size,tag_vocab_size,max_length_sequence,embedding_size):\n",
    "        X_input = Input(shape=(max_length_sequence,), dtype='int32')\n",
    "        X = Embedding(input_dim=vocab_size, output_dim=embedding_size, input_length=max_length_sequence, mask_zero = True)(X_input)\n",
    "        forward = GRU(150,  return_sequences=False, init='glorot_uniform', activation='relu')(X)\n",
    "        backward = GRU(150, return_sequences=False, init='glorot_uniform', activation='relu', go_backwards=True)(X)                                 # dropout (use 0.8)\n",
    "        forward_target = GRU(150, return_sequences=True, init='glorot_uniform', activation='relu')(X)\n",
    "        backward_target = GRU(150, return_sequences=True, init='glorot_uniform', activation='relu', go_backwards=True)(X)\n",
    "        encoder = concatenate([forward, backward])\n",
    "        target = concatenate([forward_target, backward_target])\n",
    "        encoder = RepeatVector(max_length_sequence)(encoder)\n",
    "        tagger = concatenate([encoder, target])\n",
    "        output = TimeDistributed(Dense(tag_vocab_size, activation = \"softmax\"))(tagger) # time distributed  (softmax)\n",
    "        model = Model(inputs = X_input, outputs = output)\n",
    "        return model"
   ]
  },
  {
   "cell_type": "code",
   "execution_count": 314,
   "metadata": {},
   "outputs": [
    {
     "name": "stderr",
     "output_type": "stream",
     "text": [
      "/home/startup/anaconda3/lib/python3.6/site-packages/ipykernel_launcher.py:9: UserWarning: Update your `GRU` call to the Keras 2 API: `GRU(150, return_sequences=False, activation=\"relu\", kernel_initializer=\"glorot_uniform\")`\n",
      "  if __name__ == '__main__':\n",
      "/home/startup/anaconda3/lib/python3.6/site-packages/ipykernel_launcher.py:10: UserWarning: Update your `GRU` call to the Keras 2 API: `GRU(150, return_sequences=False, activation=\"relu\", go_backwards=True, kernel_initializer=\"glorot_uniform\")`\n",
      "  # Remove the CWD from sys.path while we load stuff.\n",
      "/home/startup/anaconda3/lib/python3.6/site-packages/ipykernel_launcher.py:11: UserWarning: Update your `GRU` call to the Keras 2 API: `GRU(150, return_sequences=True, activation=\"relu\", kernel_initializer=\"glorot_uniform\")`\n",
      "  # This is added back by InteractiveShellApp.init_path()\n",
      "/home/startup/anaconda3/lib/python3.6/site-packages/ipykernel_launcher.py:12: UserWarning: Update your `GRU` call to the Keras 2 API: `GRU(150, return_sequences=True, activation=\"relu\", go_backwards=True, kernel_initializer=\"glorot_uniform\")`\n",
      "  if sys.path[0] == '':\n"
     ]
    },
    {
     "name": "stdout",
     "output_type": "stream",
     "text": [
      "__________________________________________________________________________________________________\n",
      "Layer (type)                    Output Shape         Param #     Connected to                     \n",
      "==================================================================================================\n",
      "input_52 (InputLayer)           (None, 47)           0                                            \n",
      "__________________________________________________________________________________________________\n",
      "embedding_52 (Embedding)        (None, 47, 50)       43500       input_52[0][0]                   \n",
      "__________________________________________________________________________________________________\n",
      "gru_86 (GRU)                    (None, 150)          90450       embedding_52[0][0]               \n",
      "__________________________________________________________________________________________________\n",
      "gru_87 (GRU)                    (None, 150)          90450       embedding_52[0][0]               \n",
      "__________________________________________________________________________________________________\n",
      "concatenate_39 (Concatenate)    (None, 300)          0           gru_86[0][0]                     \n",
      "                                                                 gru_87[0][0]                     \n",
      "__________________________________________________________________________________________________\n",
      "gru_88 (GRU)                    (None, 47, 150)      90450       embedding_52[0][0]               \n",
      "__________________________________________________________________________________________________\n",
      "gru_89 (GRU)                    (None, 47, 150)      90450       embedding_52[0][0]               \n",
      "__________________________________________________________________________________________________\n",
      "repeat_vector_14 (RepeatVector) (None, 47, 300)      0           concatenate_39[0][0]             \n",
      "__________________________________________________________________________________________________\n",
      "concatenate_40 (Concatenate)    (None, 47, 300)      0           gru_88[0][0]                     \n",
      "                                                                 gru_89[0][0]                     \n",
      "__________________________________________________________________________________________________\n",
      "concatenate_41 (Concatenate)    (None, 47, 600)      0           repeat_vector_14[0][0]           \n",
      "                                                                 concatenate_40[0][0]             \n",
      "__________________________________________________________________________________________________\n",
      "time_distributed_49 (TimeDistri (None, 47, 122)      73322       concatenate_41[0][0]             \n",
      "==================================================================================================\n",
      "Total params: 478,622\n",
      "Trainable params: 478,622\n",
      "Non-trainable params: 0\n",
      "__________________________________________________________________________________________________\n"
     ]
    }
   ],
   "source": [
    "model_seq2seq = SeqToSeqModel(vocab_size,tag_vocab_size,max_len,embedding_size,corpus.dictionary.idx2tag,\"seq2seq_model\")"
   ]
  },
  {
   "cell_type": "code",
   "execution_count": 255,
   "metadata": {
    "scrolled": true
   },
   "outputs": [
    {
     "name": "stdout",
     "output_type": "stream",
     "text": [
      "Train on 4478 samples, validate on 500 samples\n",
      "Epoch 1/25\n",
      "4478/4478 [==============================] - 61s 14ms/step - loss: 0.1712 - acc: 0.9587 - f1: 0.4074 - recall: 0.2606 - precision: 0.9368 - val_loss: 0.1965 - val_acc: 0.9575 - val_f1: 0.4031 - val_recall: 0.2625 - val_precision: 0.8761\n",
      "Epoch 2/25\n",
      "4478/4478 [==============================] - 60s 13ms/step - loss: 0.1235 - acc: 0.9695 - f1: 0.4008 - recall: 0.2649 - precision: 0.8312 - val_loss: 0.1665 - val_acc: 0.9635 - val_f1: 0.4056 - val_recall: 0.2650 - val_precision: 0.8715\n",
      "Epoch 3/25\n",
      "4478/4478 [==============================] - 60s 13ms/step - loss: 0.0949 - acc: 0.9773 - f1: 0.3840 - recall: 0.2678 - precision: 0.6916 - val_loss: 0.1439 - val_acc: 0.9687 - val_f1: 0.3952 - val_recall: 0.2668 - val_precision: 0.7725\n",
      "Epoch 4/25\n",
      "4478/4478 [==============================] - 60s 13ms/step - loss: 0.0746 - acc: 0.9816 - f1: 0.3767 - recall: 0.2698 - precision: 0.6350 - val_loss: 0.1546 - val_acc: 0.9667 - val_f1: 0.3812 - val_recall: 0.2673 - val_precision: 0.6752\n",
      "Epoch 5/25\n",
      "4478/4478 [==============================] - 61s 14ms/step - loss: 0.0619 - acc: 0.9851 - f1: 0.3703 - recall: 0.2709 - precision: 0.5913 - val_loss: 0.1217 - val_acc: 0.9721 - val_f1: 0.3567 - val_recall: 0.2700 - val_precision: 0.5309\n",
      "Epoch 6/25\n",
      "4478/4478 [==============================] - 63s 14ms/step - loss: 0.0487 - acc: 0.9880 - f1: 0.3506 - recall: 0.2722 - precision: 0.4976 - val_loss: 0.1190 - val_acc: 0.9747 - val_f1: 0.3410 - val_recall: 0.2708 - val_precision: 0.4663\n",
      "Epoch 7/25\n",
      "4478/4478 [==============================] - 61s 14ms/step - loss: 0.0404 - acc: 0.9902 - f1: 0.3395 - recall: 0.2731 - precision: 0.4523 - val_loss: 0.1200 - val_acc: 0.9761 - val_f1: 0.3307 - val_recall: 0.2713 - val_precision: 0.4259\n",
      "Epoch 8/25\n",
      "4478/4478 [==============================] - 61s 14ms/step - loss: 0.0346 - acc: 0.9915 - f1: 0.3460 - recall: 0.2736 - precision: 0.4755 - val_loss: 0.1157 - val_acc: 0.9753 - val_f1: 0.3570 - val_recall: 0.2712 - val_precision: 0.5274\n",
      "Epoch 9/25\n",
      "4478/4478 [==============================] - 61s 14ms/step - loss: 0.0285 - acc: 0.9925 - f1: 0.3391 - recall: 0.2741 - precision: 0.4491 - val_loss: 0.1115 - val_acc: 0.9760 - val_f1: 0.3490 - val_recall: 0.2716 - val_precision: 0.4908\n",
      "Epoch 10/25\n",
      "4478/4478 [==============================] - 62s 14ms/step - loss: 0.0243 - acc: 0.9944 - f1: 0.3392 - recall: 0.2746 - precision: 0.4483 - val_loss: 0.1230 - val_acc: 0.9758 - val_f1: 0.3259 - val_recall: 0.2720 - val_precision: 0.4080\n",
      "Epoch 11/25\n",
      "4478/4478 [==============================] - 61s 14ms/step - loss: 0.0211 - acc: 0.9950 - f1: 0.3356 - recall: 0.2749 - precision: 0.4345 - val_loss: 0.1199 - val_acc: 0.9762 - val_f1: 0.3493 - val_recall: 0.2717 - val_precision: 0.4933\n",
      "Epoch 12/25\n",
      "4478/4478 [==============================] - 61s 14ms/step - loss: 0.0199 - acc: 0.9950 - f1: 0.3392 - recall: 0.2749 - precision: 0.4473 - val_loss: 0.1197 - val_acc: 0.9764 - val_f1: 0.3411 - val_recall: 0.2722 - val_precision: 0.4602\n",
      "Epoch 13/25\n",
      "4478/4478 [==============================] - 62s 14ms/step - loss: 0.0172 - acc: 0.9962 - f1: 0.3360 - recall: 0.2753 - precision: 0.4345 - val_loss: 0.1177 - val_acc: 0.9778 - val_f1: 0.3520 - val_recall: 0.2722 - val_precision: 0.5033\n",
      "Epoch 00013: early stopping\n"
     ]
    }
   ],
   "source": [
    "model_seq2seq.fit(X_train,Y_train,X_valid,Y_valid)"
   ]
  },
  {
   "cell_type": "code",
   "execution_count": 256,
   "metadata": {},
   "outputs": [
    {
     "name": "stdout",
     "output_type": "stream",
     "text": [
      "10057 893\n",
      "Pourcentage de la classe <pad> : 0.7445408734602463\n",
      "Accuracy totale : 0.9719634703196347\n",
      "F1 score totale : 0.9697677950258212\n",
      "Accuracy intent : 0.9417693169092946\n",
      "F1 score intent : 0.9397222699134687\n",
      "Accuracy slot : 0.9746445262006562\n",
      "F1 score slot : 0.9724820916304111\n",
      "--------------------------------------------------\n"
     ]
    },
    {
     "name": "stderr",
     "output_type": "stream",
     "text": [
      "/home/startup/anaconda3/lib/python3.6/site-packages/sklearn/metrics/classification.py:1135: UndefinedMetricWarning: F-score is ill-defined and being set to 0.0 in labels with no predicted samples.\n",
      "  'precision', 'predicted', average, warn_for)\n",
      "/home/startup/anaconda3/lib/python3.6/site-packages/sklearn/metrics/classification.py:1137: UndefinedMetricWarning: F-score is ill-defined and being set to 0.0 in labels with no true samples.\n",
      "  'recall', 'true', average, warn_for)\n"
     ]
    }
   ],
   "source": [
    "model_seq2seq.predict_no_padding(X_test,Y_test)"
   ]
  },
  {
   "cell_type": "code",
   "execution_count": 257,
   "metadata": {},
   "outputs": [
    {
     "name": "stdout",
     "output_type": "stream",
     "text": [
      "893/893 [==============================] - 5s 6ms/step\n",
      "accuracy = 0.9722477341152118 - f1-score = 0.3164574613029185 - recall = 0.24750372473763727 - precision = 0.45234844966271154\n"
     ]
    }
   ],
   "source": [
    "model_seq2seq.evaluate(X_test,Y_test)"
   ]
  },
  {
   "cell_type": "code",
   "execution_count": 258,
   "metadata": {},
   "outputs": [
    {
     "name": "stdout",
     "output_type": "stream",
     "text": [
      "Exemple source: O O O O O O O O O O B-depart_date.day_name B-depart_time.time_relative B-depart_time.time I-depart_time.time O B-fromloc.city_name O O B-toloc.city_name I-toloc.city_name I-toloc.city_name atis_flight_no\n",
      "Exemple prédit: O O O O O O O O O O B-depart_date.day_name B-depart_time.time_relative B-depart_time.time I-depart_time.time O B-fromloc.city_name O O B-toloc.city_name I-toloc.city_name I-toloc.city_name atis_flight_time\n"
     ]
    }
   ],
   "source": [
    "idx_test = 500\n",
    "ex = [corpus.dictionary.idx2tag[x] for x in corpus.test.padded_tags[idx_test] if corpus.dictionary.idx2tag[x] !='<pad>']\n",
    "ind = len(ex)\n",
    "pred = [x for x in model_seq2seq.predict(X_test)[idx_test]]\n",
    "print(\"Exemple source:\", ' '.join(ex))\n",
    "print(\"Exemple prédit:\",' '.join(pred[48-ind:]))"
   ]
  },
  {
   "cell_type": "markdown",
   "metadata": {},
   "source": [
    "## Conv1 Encoder Sequence to Sequence"
   ]
  },
  {
   "cell_type": "code",
   "execution_count": 171,
   "metadata": {
    "collapsed": true
   },
   "outputs": [],
   "source": [
    "class ConvEncoderSeq2SeqModel(SlotFilingModel):\n",
    "    \n",
    "    def __init__(self, vocab_size, tag_vocab_size, max_length_sequence, embedding_size,idx2tags,model_path, batch_size= 32, nb_epochs=10, early_stop=True):\n",
    "        super().__init__(vocab_size, tag_vocab_size, max_length_sequence, embedding_size,idx2tags,model_path, batch_size= 32, nb_epochs=10, early_stop=True)\n",
    "        \n",
    "    def model(self,vocab_size,tag_vocab_size,max_length_sequence,embedding_size):\n",
    "        X_input = Input(shape=(max_length_sequence,), dtype='int32')\n",
    "        X = Embedding(input_dim=vocab_size, output_dim=embedding_size, input_length=max_length_sequence)(X_input)\n",
    "        X = Convolution1D(50, 3, border_mode='same', input_shape=(48,50))(X)\n",
    "        forward = GRU(150,  return_sequences=False, init='glorot_uniform', activation='relu')(X)\n",
    "        backward = GRU(150, return_sequences=False, init='glorot_uniform', activation='relu', go_backwards=True)(X)                                 # dropout (use 0.8)\n",
    "        forward_target = GRU(150, return_sequences=True, init='glorot_uniform', activation='relu')(X)\n",
    "        backward_target = GRU(150, return_sequences=True, init='glorot_uniform', activation='relu', go_backwards=True)(X)\n",
    "        encoder = concatenate([forward, backward])\n",
    "        target = concatenate([forward_target, backward_target])\n",
    "        encoder = RepeatVector(max_length_sequence)(encoder)\n",
    "        tagger = concatenate([encoder, target])\n",
    "        output = TimeDistributed(Dense(tag_vocab_size, activation = \"softmax\"))(tagger) # time distributed  (sigmoid)\n",
    "        model = Model(inputs = X_input, outputs = output)\n",
    "        return model"
   ]
  },
  {
   "cell_type": "code",
   "execution_count": 172,
   "metadata": {},
   "outputs": [
    {
     "name": "stderr",
     "output_type": "stream",
     "text": [
      "/home/startup/anaconda3/lib/python3.6/site-packages/ipykernel_launcher.py:9: UserWarning: Update your `Conv1D` call to the Keras 2 API: `Conv1D(50, 3, input_shape=(48, 50), padding=\"same\")`\n",
      "  if __name__ == '__main__':\n",
      "/home/startup/anaconda3/lib/python3.6/site-packages/ipykernel_launcher.py:10: UserWarning: Update your `GRU` call to the Keras 2 API: `GRU(150, return_sequences=False, activation=\"relu\", kernel_initializer=\"glorot_uniform\")`\n",
      "  # Remove the CWD from sys.path while we load stuff.\n",
      "/home/startup/anaconda3/lib/python3.6/site-packages/ipykernel_launcher.py:11: UserWarning: Update your `GRU` call to the Keras 2 API: `GRU(150, return_sequences=False, activation=\"relu\", go_backwards=True, kernel_initializer=\"glorot_uniform\")`\n",
      "  # This is added back by InteractiveShellApp.init_path()\n",
      "/home/startup/anaconda3/lib/python3.6/site-packages/ipykernel_launcher.py:12: UserWarning: Update your `GRU` call to the Keras 2 API: `GRU(150, return_sequences=True, activation=\"relu\", kernel_initializer=\"glorot_uniform\")`\n",
      "  if sys.path[0] == '':\n",
      "/home/startup/anaconda3/lib/python3.6/site-packages/ipykernel_launcher.py:13: UserWarning: Update your `GRU` call to the Keras 2 API: `GRU(150, return_sequences=True, activation=\"relu\", go_backwards=True, kernel_initializer=\"glorot_uniform\")`\n",
      "  del sys.path[0]\n"
     ]
    },
    {
     "name": "stdout",
     "output_type": "stream",
     "text": [
      "__________________________________________________________________________________________________\n",
      "Layer (type)                    Output Shape         Param #     Connected to                     \n",
      "==================================================================================================\n",
      "input_27 (InputLayer)           (None, 48)           0                                            \n",
      "__________________________________________________________________________________________________\n",
      "embedding_27 (Embedding)        (None, 48, 50)       43550       input_27[0][0]                   \n",
      "__________________________________________________________________________________________________\n",
      "conv1d_4 (Conv1D)               (None, 48, 50)       7550        embedding_27[0][0]               \n",
      "__________________________________________________________________________________________________\n",
      "gru_36 (GRU)                    (None, 150)          90450       conv1d_4[0][0]                   \n",
      "__________________________________________________________________________________________________\n",
      "gru_37 (GRU)                    (None, 150)          90450       conv1d_4[0][0]                   \n",
      "__________________________________________________________________________________________________\n",
      "concatenate_16 (Concatenate)    (None, 300)          0           gru_36[0][0]                     \n",
      "                                                                 gru_37[0][0]                     \n",
      "__________________________________________________________________________________________________\n",
      "gru_38 (GRU)                    (None, 48, 150)      90450       conv1d_4[0][0]                   \n",
      "__________________________________________________________________________________________________\n",
      "gru_39 (GRU)                    (None, 48, 150)      90450       conv1d_4[0][0]                   \n",
      "__________________________________________________________________________________________________\n",
      "repeat_vector_5 (RepeatVector)  (None, 48, 300)      0           concatenate_16[0][0]             \n",
      "__________________________________________________________________________________________________\n",
      "concatenate_17 (Concatenate)    (None, 48, 300)      0           gru_38[0][0]                     \n",
      "                                                                 gru_39[0][0]                     \n",
      "__________________________________________________________________________________________________\n",
      "concatenate_18 (Concatenate)    (None, 48, 600)      0           repeat_vector_5[0][0]            \n",
      "                                                                 concatenate_17[0][0]             \n",
      "__________________________________________________________________________________________________\n",
      "time_distributed_24 (TimeDistri (None, 48, 143)      85943       concatenate_18[0][0]             \n",
      "==================================================================================================\n",
      "Total params: 498,843\n",
      "Trainable params: 498,843\n",
      "Non-trainable params: 0\n",
      "__________________________________________________________________________________________________\n"
     ]
    }
   ],
   "source": [
    "model_convSeq2Seq = ConvEncoderSeq2SeqModel(vocab_size,tag_vocab_size,max_len,embedding_size,corpus.dictionary.idx2tag,\"convSeq2Seq_model\")"
   ]
  },
  {
   "cell_type": "code",
   "execution_count": 24,
   "metadata": {},
   "outputs": [
    {
     "name": "stdout",
     "output_type": "stream",
     "text": [
      "Train on 4478 samples, validate on 500 samples\n",
      "Epoch 1/10\n",
      "4478/4478 [==============================] - 63s 14ms/step - loss: 1.1075 - acc: 0.8322 - f1: 0.7483 - recall: 0.7116 - precision: 0.7902 - val_loss: 0.4785 - val_acc: 0.8927 - val_f1: 0.9057 - val_recall: 0.8668 - val_precision: 0.9483\n",
      "Epoch 2/10\n",
      "4478/4478 [==============================] - 55s 12ms/step - loss: 0.3621 - acc: 0.9151 - f1: 0.9230 - recall: 0.8857 - precision: 0.9640 - val_loss: 0.2618 - val_acc: 0.9399 - val_f1: 0.9466 - val_recall: 0.9182 - val_precision: 0.9769\n",
      "Epoch 3/10\n",
      "4478/4478 [==============================] - 53s 12ms/step - loss: 0.1751 - acc: 0.9580 - f1: 0.9648 - recall: 0.9436 - precision: 0.9870 - val_loss: 0.1421 - val_acc: 0.9655 - val_f1: 0.9701 - val_recall: 0.9539 - val_precision: 0.9869\n",
      "Epoch 4/10\n",
      "4478/4478 [==============================] - 63s 14ms/step - loss: 0.0964 - acc: 0.9764 - f1: 0.9791 - recall: 0.9679 - precision: 0.9905 - val_loss: 0.0956 - val_acc: 0.9774 - val_f1: 0.9801 - val_recall: 0.9713 - val_precision: 0.9891\n",
      "Epoch 5/10\n",
      "4478/4478 [==============================] - 57s 13ms/step - loss: 0.0683 - acc: 0.9826 - f1: 0.9841 - recall: 0.9769 - precision: 0.9915 - val_loss: 0.0829 - val_acc: 0.9807 - val_f1: 0.9819 - val_recall: 0.9766 - val_precision: 0.9873\n",
      "Epoch 6/10\n",
      "4478/4478 [==============================] - 54s 12ms/step - loss: 0.0508 - acc: 0.9869 - f1: 0.9876 - recall: 0.9824 - precision: 0.9929 - val_loss: 0.0635 - val_acc: 0.9839 - val_f1: 0.9860 - val_recall: 0.9807 - val_precision: 0.9913\n",
      "Epoch 7/10\n",
      "4478/4478 [==============================] - 59s 13ms/step - loss: 0.0405 - acc: 0.9892 - f1: 0.9900 - recall: 0.9859 - precision: 0.9942 - val_loss: 0.0594 - val_acc: 0.9861 - val_f1: 0.9867 - val_recall: 0.9814 - val_precision: 0.9920\n",
      "Epoch 8/10\n",
      "4478/4478 [==============================] - 57s 13ms/step - loss: 0.0329 - acc: 0.9914 - f1: 0.9919 - recall: 0.9887 - precision: 0.9951 - val_loss: 0.0522 - val_acc: 0.9883 - val_f1: 0.9889 - val_recall: 0.9849 - val_precision: 0.9928\n",
      "Epoch 9/10\n",
      "4478/4478 [==============================] - 60s 14ms/step - loss: 0.0277 - acc: 0.9927 - f1: 0.9931 - recall: 0.9905 - precision: 0.9958 - val_loss: 0.0476 - val_acc: 0.9895 - val_f1: 0.9903 - val_recall: 0.9869 - val_precision: 0.9937\n",
      "Epoch 10/10\n",
      "4478/4478 [==============================] - 57s 13ms/step - loss: 0.0228 - acc: 0.9940 - f1: 0.9943 - recall: 0.9923 - precision: 0.9964 - val_loss: 0.0483 - val_acc: 0.9892 - val_f1: 0.9901 - val_recall: 0.9875 - val_precision: 0.9928\n"
     ]
    }
   ],
   "source": [
    "model_convSeq2Seq.fit(X_train,Y_train,X_valid,Y_valid)"
   ]
  },
  {
   "cell_type": "code",
   "execution_count": 173,
   "metadata": {},
   "outputs": [
    {
     "name": "stdout",
     "output_type": "stream",
     "text": [
      "893/893 [==============================] - 5s 6ms/step\n",
      "accuracy = 0.9864455083716757 - f1-score = 0.987764570907943 - recall = 0.9848357572534183 - precision = 0.9907186399782358\n"
     ]
    }
   ],
   "source": [
    "model_convSeq2Seq.evaluate(X_test,Y_test)"
   ]
  },
  {
   "cell_type": "code",
   "execution_count": 174,
   "metadata": {},
   "outputs": [
    {
     "name": "stdout",
     "output_type": "stream",
     "text": [
      "Pourcentage de la classe <pad> : 0.7445408734602463\n",
      "Accuracy totale : 0.9469406392694064\n",
      "F1 score totale : 0.9428629218268111\n",
      "Accuracy intent : 0.8521836506159015\n",
      "F1 score intent : 0.8236020168865738\n",
      "Accuracy slot : 0.9553544794670379\n",
      "F1 score slot : 0.9541213262807624\n"
     ]
    },
    {
     "name": "stderr",
     "output_type": "stream",
     "text": [
      "/home/startup/anaconda3/lib/python3.6/site-packages/sklearn/metrics/classification.py:1135: UndefinedMetricWarning: F-score is ill-defined and being set to 0.0 in labels with no predicted samples.\n",
      "  'precision', 'predicted', average, warn_for)\n",
      "/home/startup/anaconda3/lib/python3.6/site-packages/sklearn/metrics/classification.py:1137: UndefinedMetricWarning: F-score is ill-defined and being set to 0.0 in labels with no true samples.\n",
      "  'recall', 'true', average, warn_for)\n"
     ]
    }
   ],
   "source": [
    "model_convSeq2Seq.predict_no_padding(X_test,Y_test)"
   ]
  },
  {
   "cell_type": "code",
   "execution_count": 175,
   "metadata": {},
   "outputs": [
    {
     "name": "stdout",
     "output_type": "stream",
     "text": [
      "Exemple source: O O O O O O O O O O B-depart_date.day_name B-depart_time.time_relative B-depart_time.time I-depart_time.time O B-fromloc.city_name O O B-toloc.city_name I-toloc.city_name I-toloc.city_name atis_flight_no\n",
      "Exemple prédit: O O O O O O O O O O B-depart_date.day_name B-depart_time.time_relative B-depart_time.time I-depart_time.time O B-fromloc.city_name O O B-toloc.city_name I-toloc.city_name I-toloc.city_name atis_flight\n"
     ]
    }
   ],
   "source": [
    "idx_test = 500\n",
    "ex = [corpus.dictionary.idx2tag[x] for x in corpus.test.padded_tags[idx_test] if corpus.dictionary.idx2tag[x] !='<pad>']\n",
    "ind = len(ex)\n",
    "pred = [x for x in model_convSeq2Seq.predict(X_test)[idx_test]]\n",
    "print(\"Exemple source:\", ' '.join(ex))\n",
    "print(\"Exemple prédit:\",' '.join(pred[48-ind:]))"
   ]
  },
  {
   "cell_type": "markdown",
   "metadata": {},
   "source": [
    "## Taches séparées"
   ]
  },
  {
   "cell_type": "markdown",
   "metadata": {},
   "source": [
    "## Slot Filling detection"
   ]
  },
  {
   "cell_type": "code",
   "execution_count": 323,
   "metadata": {
    "collapsed": true
   },
   "outputs": [],
   "source": [
    "import numpy as np \n",
    "from scipy import io\n",
    "from keras.preprocessing import sequence\n",
    "\n",
    "\n",
    "class Corpus2(object):\n",
    "    \n",
    "    def __init__(self, data_dir='data',embeddings_file=\"glove.6B.50d.txt\", train_file=\"atis-2.train.w-intent.iob\", valid_file=\"atis-2.dev.w-intent.iob\" ,test_file=\"atis.test.w-intent.iob\",):\n",
    "        self.train = SlotDataset()\n",
    "        self.valid = SlotDataset()\n",
    "        self.test = SlotDataset()\n",
    "        \n",
    "        self.dictionary = Dictionary()\n",
    "        #self.embeddings = GolveEmbbedings(os.path.join(data_dir, embeddings_file))\n",
    "        self.load_train(os.path.join(data_dir, train_file))\n",
    "        self.load_valid(os.path.join(data_dir, valid_file))\n",
    "        self.load_test(os.path.join(data_dir, test_file))\n",
    "        \n",
    "    def load_train(self, path):\n",
    "        for line in open(path, 'r'):\n",
    "            words=line.split('\\t')[0].strip().split()\n",
    "            tags=line.split('\\t')[1].strip().split()\n",
    "            temp_utt = list()\n",
    "            temp_tags = list()\n",
    "            for i in range(len(words[0:-1])):\n",
    "                id_word = self.dictionary.add_word(words[i])\n",
    "                id_tag  = self.dictionary.add_tag(tags[i])\n",
    "                temp_utt.append(id_word)\n",
    "                temp_tags.append(id_tag)\n",
    "            self.train.add_utterance(np.array(temp_utt))\n",
    "            self.train.add_slots(np.array(temp_tags))\n",
    "    \n",
    "    def load_valid(self, path):\n",
    "        for line in open(path, 'r'):\n",
    "            words=line.split('\\t')[0].strip().split()\n",
    "            tags =line.split('\\t')[1].strip().split()\n",
    "            temp_utt = list()\n",
    "            temp_tags = list()\n",
    "            for i in range(len(words[0:-1])):\n",
    "                if words[i] not in self.dictionary.word2idx :\n",
    "                    temp_utt.append(1) \n",
    "                else:\n",
    "                    temp_utt.append(self.dictionary.word2idx[words[i]])\n",
    "                if tags[i] not in self.dictionary.tag2idx :\n",
    "                    temp_tags.append(1) \n",
    "                else:\n",
    "                    temp_tags.append(self.dictionary.tag2idx[tags[i]])\n",
    "            self.valid.add_utterance(np.array(temp_utt))\n",
    "            self.valid.add_slots(np.array(temp_tags))\n",
    "            \n",
    "    def load_test(self, path):\n",
    "        for line in open(path, 'r'):\n",
    "            words=line.split('\\t')[0].strip().split()\n",
    "            tags =line.split('\\t')[1].strip().split()\n",
    "            temp_utt = list()\n",
    "            temp_tags = list()\n",
    "            for i in range(len(words[0:-1])):\n",
    "                if words[i] not in self.dictionary.word2idx :\n",
    "                    temp_utt.append(1) \n",
    "                else:\n",
    "                    temp_utt.append(self.dictionary.word2idx[words[i]])\n",
    "                if tags[i] not in self.dictionary.tag2idx :\n",
    "                    temp_tags.append(1) \n",
    "                else:\n",
    "                    temp_tags.append(self.dictionary.tag2idx[tags[i]])\n",
    "            self.test.add_utterance(np.array(temp_utt))\n",
    "            self.test.add_slots(np.array(temp_tags))"
   ]
  },
  {
   "cell_type": "code",
   "execution_count": 324,
   "metadata": {
    "collapsed": true
   },
   "outputs": [],
   "source": [
    "corpus2 = Corpus2()"
   ]
  },
  {
   "cell_type": "code",
   "execution_count": 292,
   "metadata": {},
   "outputs": [
    {
     "data": {
      "text/plain": [
       "array([ 0,  0,  0,  0,  0,  0,  0,  0,  0,  0,  0,  0,  0,  0,  0,  0,  0,\n",
       "        0,  0,  0,  0,  0,  0,  0,  0,  0,  0,  2,  2,  2,  2,  2,  2,  2,\n",
       "        2,  2,  3,  2,  4, 18,  2,  2,  2,  2,  2, 13, 19], dtype=int32)"
      ]
     },
     "execution_count": 292,
     "metadata": {},
     "output_type": "execute_result"
    }
   ],
   "source": [
    "max_len  = max([ len(x) for x in  corpus2.train.utterances])\n",
    "vocab_size = len(corpus2.dictionary.word2idx)\n",
    "tag_vocab_size = len(corpus2.dictionary.tag2idx)\n",
    "embedding_size = 50\n",
    "corpus2.train.pad_utts(time_length=max_len)\n",
    "corpus2.train.pad_tags(time_length=max_len)\n",
    "corpus2.valid.pad_utts(time_length=max_len)\n",
    "corpus2.valid.pad_tags(time_length=max_len)\n",
    "corpus2.test.pad_utts(time_length=max_len)\n",
    "corpus2.test.pad_tags(time_length=max_len)[0]"
   ]
  },
  {
   "cell_type": "code",
   "execution_count": 293,
   "metadata": {
    "collapsed": true
   },
   "outputs": [],
   "source": [
    "X_train = corpus2.train.padded_utterances\n",
    "X_valid = corpus2.valid.padded_utterances\n",
    "X_test = corpus2.test.padded_utterances"
   ]
  },
  {
   "cell_type": "code",
   "execution_count": 294,
   "metadata": {},
   "outputs": [
    {
     "name": "stdout",
     "output_type": "stream",
     "text": [
      "Train shape (4478, 47)\n",
      "Dev shape (500, 47)\n",
      "Test shape (893, 47)\n"
     ]
    }
   ],
   "source": [
    "print(\"Train shape \" + str(X_train.shape))\n",
    "print(\"Dev shape \" + str(X_valid.shape))\n",
    "print(\"Test shape \" + str(X_test.shape))\n"
   ]
  },
  {
   "cell_type": "code",
   "execution_count": 295,
   "metadata": {
    "collapsed": true
   },
   "outputs": [],
   "source": [
    "Y_train = corpus2.train.get_one_hot_tags(tag_vocab_size)\n",
    "Y_valid = corpus2.valid.get_one_hot_tags(tag_vocab_size)\n",
    "Y_test = corpus2.test.get_one_hot_tags(tag_vocab_size)"
   ]
  },
  {
   "cell_type": "code",
   "execution_count": 296,
   "metadata": {},
   "outputs": [
    {
     "name": "stdout",
     "output_type": "stream",
     "text": [
      "Train label shape (4478, 47, 122)\n",
      "Dev label shape (500, 47, 122)\n",
      "Test label shape (893, 47, 122)\n"
     ]
    }
   ],
   "source": [
    "print(\"Train label shape \" + str(Y_train.shape))\n",
    "print(\"Dev label shape \" + str(Y_valid.shape))\n",
    "print(\"Test label shape \" + str(Y_test.shape))"
   ]
  },
  {
   "cell_type": "code",
   "execution_count": 322,
   "metadata": {},
   "outputs": [
    {
     "name": "stderr",
     "output_type": "stream",
     "text": [
      "/home/startup/anaconda3/lib/python3.6/site-packages/ipykernel_launcher.py:9: UserWarning: Update your `GRU` call to the Keras 2 API: `GRU(150, return_sequences=False, activation=\"relu\", kernel_initializer=\"glorot_uniform\")`\n",
      "  if __name__ == '__main__':\n",
      "/home/startup/anaconda3/lib/python3.6/site-packages/ipykernel_launcher.py:10: UserWarning: Update your `GRU` call to the Keras 2 API: `GRU(150, return_sequences=False, activation=\"relu\", go_backwards=True, kernel_initializer=\"glorot_uniform\")`\n",
      "  # Remove the CWD from sys.path while we load stuff.\n",
      "/home/startup/anaconda3/lib/python3.6/site-packages/ipykernel_launcher.py:11: UserWarning: Update your `GRU` call to the Keras 2 API: `GRU(150, return_sequences=True, activation=\"relu\", kernel_initializer=\"glorot_uniform\")`\n",
      "  # This is added back by InteractiveShellApp.init_path()\n",
      "/home/startup/anaconda3/lib/python3.6/site-packages/ipykernel_launcher.py:12: UserWarning: Update your `GRU` call to the Keras 2 API: `GRU(150, return_sequences=True, activation=\"relu\", go_backwards=True, kernel_initializer=\"glorot_uniform\")`\n",
      "  if sys.path[0] == '':\n"
     ]
    },
    {
     "name": "stdout",
     "output_type": "stream",
     "text": [
      "__________________________________________________________________________________________________\n",
      "Layer (type)                    Output Shape         Param #     Connected to                     \n",
      "==================================================================================================\n",
      "input_55 (InputLayer)           (None, 47)           0                                            \n",
      "__________________________________________________________________________________________________\n",
      "embedding_55 (Embedding)        (None, 47, 50)       43500       input_55[0][0]                   \n",
      "__________________________________________________________________________________________________\n",
      "gru_95 (GRU)                    (None, 150)          90450       embedding_55[0][0]               \n",
      "__________________________________________________________________________________________________\n",
      "gru_96 (GRU)                    (None, 150)          90450       embedding_55[0][0]               \n",
      "__________________________________________________________________________________________________\n",
      "concatenate_45 (Concatenate)    (None, 300)          0           gru_95[0][0]                     \n",
      "                                                                 gru_96[0][0]                     \n",
      "__________________________________________________________________________________________________\n",
      "gru_97 (GRU)                    (None, 47, 150)      90450       embedding_55[0][0]               \n",
      "__________________________________________________________________________________________________\n",
      "gru_98 (GRU)                    (None, 47, 150)      90450       embedding_55[0][0]               \n",
      "__________________________________________________________________________________________________\n",
      "repeat_vector_16 (RepeatVector) (None, 47, 300)      0           concatenate_45[0][0]             \n",
      "__________________________________________________________________________________________________\n",
      "concatenate_46 (Concatenate)    (None, 47, 300)      0           gru_97[0][0]                     \n",
      "                                                                 gru_98[0][0]                     \n",
      "__________________________________________________________________________________________________\n",
      "concatenate_47 (Concatenate)    (None, 47, 600)      0           repeat_vector_16[0][0]           \n",
      "                                                                 concatenate_46[0][0]             \n",
      "__________________________________________________________________________________________________\n",
      "time_distributed_52 (TimeDistri (None, 47, 122)      73322       concatenate_47[0][0]             \n",
      "==================================================================================================\n",
      "Total params: 478,622\n",
      "Trainable params: 478,622\n",
      "Non-trainable params: 0\n",
      "__________________________________________________________________________________________________\n"
     ]
    }
   ],
   "source": [
    "model_seq2seq = SeqToSeqModel(vocab_size,tag_vocab_size,max_len,embedding_size,corpus2.dictionary.idx2tag,\"sf_seq2seq_model\")"
   ]
  },
  {
   "cell_type": "code",
   "execution_count": 298,
   "metadata": {},
   "outputs": [
    {
     "name": "stdout",
     "output_type": "stream",
     "text": [
      "Train on 4478 samples, validate on 500 samples\n",
      "Epoch 1/25\n",
      "4478/4478 [==============================] - 76s 17ms/step - loss: 1.9249 - acc: 0.6839 - f1: 0.1769 - recall: 0.1338 - precision: 0.2990 - val_loss: 0.9399 - val_acc: 0.8040 - val_f1: 0.3157 - val_recall: 0.2023 - val_precision: 0.7282\n",
      "Epoch 2/25\n",
      "4478/4478 [==============================] - 62s 14ms/step - loss: 0.6355 - acc: 0.8535 - f1: 0.3477 - recall: 0.2123 - precision: 0.9667 - val_loss: 0.5230 - val_acc: 0.8779 - val_f1: 0.3551 - val_recall: 0.2170 - val_precision: 0.9807\n",
      "Epoch 3/25\n",
      "4478/4478 [==============================] - 61s 14ms/step - loss: 0.3710 - acc: 0.9115 - f1: 0.3687 - recall: 0.2272 - precision: 0.9804 - val_loss: 0.3279 - val_acc: 0.9260 - val_f1: 0.3789 - val_recall: 0.2352 - val_precision: 0.9779\n",
      "Epoch 4/25\n",
      "4478/4478 [==============================] - 60s 13ms/step - loss: 0.2242 - acc: 0.9462 - f1: 0.3843 - recall: 0.2411 - precision: 0.9515 - val_loss: 0.2369 - val_acc: 0.9452 - val_f1: 0.3888 - val_recall: 0.2434 - val_precision: 0.9695\n",
      "Epoch 5/25\n",
      "4478/4478 [==============================] - 63s 14ms/step - loss: 0.1545 - acc: 0.9625 - f1: 0.3865 - recall: 0.2472 - precision: 0.8963 - val_loss: 0.1844 - val_acc: 0.9593 - val_f1: 0.3891 - val_recall: 0.2485 - val_precision: 0.9024\n",
      "Epoch 6/25\n",
      "4478/4478 [==============================] - 60s 13ms/step - loss: 0.1150 - acc: 0.9721 - f1: 0.3859 - recall: 0.2507 - precision: 0.8488 - val_loss: 0.1588 - val_acc: 0.9657 - val_f1: 0.3704 - val_recall: 0.2515 - val_precision: 0.7111\n",
      "Epoch 7/25\n",
      "4478/4478 [==============================] - 63s 14ms/step - loss: 0.0886 - acc: 0.9790 - f1: 0.3846 - recall: 0.2533 - precision: 0.8085 - val_loss: 0.1403 - val_acc: 0.9692 - val_f1: 0.3968 - val_recall: 0.2529 - val_precision: 0.9242\n",
      "Epoch 8/25\n",
      "4478/4478 [==============================] - 62s 14ms/step - loss: 0.0680 - acc: 0.9837 - f1: 0.3837 - recall: 0.2553 - precision: 0.7839 - val_loss: 0.1277 - val_acc: 0.9730 - val_f1: 0.3673 - val_recall: 0.2551 - val_precision: 0.6639\n",
      "Epoch 9/25\n",
      "4478/4478 [==============================] - 60s 14ms/step - loss: 0.0524 - acc: 0.9869 - f1: 0.3757 - recall: 0.2566 - precision: 0.7117 - val_loss: 0.1195 - val_acc: 0.9749 - val_f1: 0.3821 - val_recall: 0.2561 - val_precision: 0.7642\n",
      "Epoch 10/25\n",
      "4478/4478 [==============================] - 65s 15ms/step - loss: 0.0430 - acc: 0.9889 - f1: 0.3705 - recall: 0.2573 - precision: 0.6710 - val_loss: 0.1105 - val_acc: 0.9770 - val_f1: 0.3726 - val_recall: 0.2566 - val_precision: 0.6882\n",
      "Epoch 11/25\n",
      "4478/4478 [==============================] - 62s 14ms/step - loss: 0.0348 - acc: 0.9909 - f1: 0.3677 - recall: 0.2581 - precision: 0.6493 - val_loss: 0.1024 - val_acc: 0.9792 - val_f1: 0.3457 - val_recall: 0.2576 - val_precision: 0.5302\n",
      "Epoch 12/25\n",
      "4478/4478 [==============================] - 62s 14ms/step - loss: 0.0282 - acc: 0.9922 - f1: 0.3576 - recall: 0.2586 - precision: 0.5880 - val_loss: 0.1106 - val_acc: 0.9758 - val_f1: 0.3593 - val_recall: 0.2567 - val_precision: 0.6058\n",
      "Epoch 13/25\n",
      "4478/4478 [==============================] - 60s 13ms/step - loss: 0.0238 - acc: 0.9937 - f1: 0.3463 - recall: 0.2591 - precision: 0.5286 - val_loss: 0.0999 - val_acc: 0.9804 - val_f1: 0.3596 - val_recall: 0.2581 - val_precision: 0.5996\n",
      "Epoch 14/25\n",
      "4478/4478 [==============================] - 60s 13ms/step - loss: 0.0204 - acc: 0.9948 - f1: 0.3420 - recall: 0.2595 - precision: 0.5096 - val_loss: 0.1122 - val_acc: 0.9763 - val_f1: 0.3420 - val_recall: 0.2569 - val_precision: 0.5164\n",
      "Epoch 15/25\n",
      "4478/4478 [==============================] - 60s 13ms/step - loss: 0.0183 - acc: 0.9954 - f1: 0.3449 - recall: 0.2597 - precision: 0.5197 - val_loss: 0.1025 - val_acc: 0.9797 - val_f1: 0.3418 - val_recall: 0.2579 - val_precision: 0.5112\n",
      "Epoch 16/25\n",
      "4478/4478 [==============================] - 62s 14ms/step - loss: 0.0135 - acc: 0.9969 - f1: 0.3394 - recall: 0.2602 - precision: 0.4926 - val_loss: 0.1050 - val_acc: 0.9776 - val_f1: 0.3283 - val_recall: 0.2577 - val_precision: 0.4544\n",
      "Epoch 17/25\n",
      "4478/4478 [==============================] - 62s 14ms/step - loss: 0.0120 - acc: 0.9973 - f1: 0.3318 - recall: 0.2603 - precision: 0.4609 - val_loss: 0.1104 - val_acc: 0.9791 - val_f1: 0.3341 - val_recall: 0.2580 - val_precision: 0.4763\n",
      "Epoch 00017: early stopping\n"
     ]
    }
   ],
   "source": [
    "model_seq2seq.fit(X_train,Y_train,X_valid,Y_valid)"
   ]
  },
  {
   "cell_type": "code",
   "execution_count": 316,
   "metadata": {},
   "outputs": [
    {
     "name": "stdout",
     "output_type": "stream",
     "text": [
      "Pourcentage de la classe <pad> : 0.7603821686402517\n",
      "Pourcentage de la classe O : 0.15234328464892427\n",
      "Accuracy totale : 0.9680819329820026\n",
      "F1 score totale : 0.9649034288098005\n",
      "Accuracy intent : 1.0\n",
      "F1 score intent : 1.0\n",
      "Accuracy slot : 0.9679928208196231\n",
      "F1 score slot : 0.964805590085802\n",
      "--------------------------------------------------\n"
     ]
    },
    {
     "name": "stderr",
     "output_type": "stream",
     "text": [
      "/home/startup/anaconda3/lib/python3.6/site-packages/sklearn/metrics/classification.py:1135: UndefinedMetricWarning: F-score is ill-defined and being set to 0.0 in labels with no predicted samples.\n",
      "  'precision', 'predicted', average, warn_for)\n"
     ]
    }
   ],
   "source": [
    "model_seq2seq.predict_no_padding(X_test,Y_test)"
   ]
  },
  {
   "cell_type": "code",
   "execution_count": 300,
   "metadata": {},
   "outputs": [
    {
     "name": "stdout",
     "output_type": "stream",
     "text": [
      "893/893 [==============================] - 4s 5ms/step\n",
      "accuracy = 0.9687159047415115 - f1-score = 0.30658431806729863 - recall = 0.23158847871846608 - precision = 0.45780669821870557\n"
     ]
    }
   ],
   "source": [
    "model_seq2seq.evaluate(X_test,Y_test)"
   ]
  },
  {
   "cell_type": "code",
   "execution_count": 301,
   "metadata": {},
   "outputs": [
    {
     "name": "stdout",
     "output_type": "stream",
     "text": [
      "Exemple source: O O O O O O O O O O B-depart_date.day_name B-depart_time.time_relative B-depart_time.time I-depart_time.time O B-fromloc.city_name O O B-toloc.city_name I-toloc.city_name I-toloc.city_name\n",
      "Exemple prédit: O O O O O O O O O B-airline_name B-depart_time.period_of_day B-depart_date.day_name B-airline_code O B-fromloc.city_name O O B-toloc.city_name I-arrive_time.time I-arrive_time.time\n"
     ]
    }
   ],
   "source": [
    "idx_test = 500\n",
    "ex = [corpus2.dictionary.idx2tag[x] for x in corpus2.test.padded_tags[idx_test] if corpus2.dictionary.idx2tag[x] !='<pad>']\n",
    "ind = len(ex)\n",
    "pred = [x for x in model_seq2seq.predict(X_test)[idx_test]]\n",
    "print(\"Exemple source:\", ' '.join(ex))\n",
    "print(\"Exemple prédit:\",' '.join(pred[48-ind:]))"
   ]
  },
  {
   "cell_type": "markdown",
   "metadata": {},
   "source": [
    "## Intent Detection "
   ]
  },
  {
   "cell_type": "code",
   "execution_count": 335,
   "metadata": {
    "collapsed": true
   },
   "outputs": [],
   "source": [
    "import numpy as np \n",
    "from scipy import io\n",
    "from keras.preprocessing import sequence\n",
    "\n",
    "\n",
    "class Corpus3(object):\n",
    "    \n",
    "    def __init__(self, data_dir='data',embeddings_file=\"glove.6B.50d.txt\", train_file=\"atis-2.train.w-intent.iob\", valid_file=\"atis-2.dev.w-intent.iob\" ,test_file=\"atis.test.w-intent.iob\",):\n",
    "        self.train = SlotDataset()\n",
    "        self.valid = SlotDataset()\n",
    "        self.test = SlotDataset()\n",
    "        \n",
    "        self.dictionary = Dictionary()\n",
    "        #self.embeddings = GolveEmbbedings(os.path.join(data_dir, embeddings_file))\n",
    "        self.load_train(os.path.join(data_dir, train_file))\n",
    "        self.load_valid(os.path.join(data_dir, valid_file))\n",
    "        self.load_test(os.path.join(data_dir, test_file))\n",
    "        \n",
    "    def load_train(self, path):\n",
    "        for line in open(path, 'r'):\n",
    "            words=line.split('\\t')[0].strip().split()\n",
    "            tags=line.split('\\t')[1].strip().split()\n",
    "            temp_utt = list()\n",
    "            temp_tags = list()\n",
    "            for i in range(len(words[0:-1])):\n",
    "                id_word = self.dictionary.add_word(words[i])\n",
    "                id_tag  = self.dictionary.add_tag(tags[-1])\n",
    "                temp_utt.append(id_word)\n",
    "                temp_tags.append(id_tag)\n",
    "            self.train.add_utterance(np.array(temp_utt))\n",
    "            self.train.add_slots(np.array(temp_tags))\n",
    "    \n",
    "    def load_valid(self, path):\n",
    "        for line in open(path, 'r'):\n",
    "            words=line.split('\\t')[0].strip().split()\n",
    "            tags =line.split('\\t')[1].strip().split()\n",
    "            temp_utt = list()\n",
    "            temp_tags = list()\n",
    "            for i in range(len(words[0:-1])):\n",
    "                if words[i] not in self.dictionary.word2idx :\n",
    "                    temp_utt.append(1) \n",
    "                else:\n",
    "                    temp_utt.append(self.dictionary.word2idx[words[i]])\n",
    "                if tags[-1] not in self.dictionary.tag2idx :\n",
    "                    temp_tags.append(1) \n",
    "                else:\n",
    "                    temp_tags.append(self.dictionary.tag2idx[tags[-1]])\n",
    "            self.valid.add_utterance(np.array(temp_utt))\n",
    "            self.valid.add_slots(np.array(temp_tags))\n",
    "            \n",
    "    def load_test(self, path):\n",
    "        for line in open(path, 'r'):\n",
    "            words=line.split('\\t')[0].strip().split()\n",
    "            tags =line.split('\\t')[1].strip().split()\n",
    "            temp_utt = list()\n",
    "            temp_tags = list()\n",
    "            for i in range(len(words[0:-1])):\n",
    "                if words[i] not in self.dictionary.word2idx :\n",
    "                    temp_utt.append(1) \n",
    "                else:\n",
    "                    temp_utt.append(self.dictionary.word2idx[words[i]])\n",
    "                if tags[-1] not in self.dictionary.tag2idx :\n",
    "                    temp_tags.append(1) \n",
    "                else:\n",
    "                    temp_tags.append(self.dictionary.tag2idx[tags[-1]])\n",
    "            self.test.add_utterance(np.array(temp_utt))\n",
    "            self.test.add_slots(np.array(temp_tags))"
   ]
  },
  {
   "cell_type": "code",
   "execution_count": 356,
   "metadata": {
    "collapsed": true
   },
   "outputs": [],
   "source": [
    "class BidirectionalLSTMModelID(SlotFilingModel):\n",
    "    \n",
    "    def __init__(self, vocab_size, tag_vocab_size, max_length_sequence, embedding_size,idx2tags,model_path, batch_size= 32, nb_epochs=10, early_stop=True):\n",
    "        super().__init__(vocab_size, tag_vocab_size, max_length_sequence, embedding_size,idx2tags,model_path, batch_size= 32, nb_epochs=10, early_stop=True)\n",
    "        \n",
    "    def model(self,vocab_size,tag_vocab_size,max_length_sequence,embedding_size):\n",
    "        X_input = Input(shape=(max_length_sequence,), dtype='int32')\n",
    "        X = Embedding(input_dim=vocab_size, output_dim=embedding_size, input_length=max_length_sequence, mask_zero = True)(X_input)\n",
    "        A = LSTM(100, return_sequences=False, init='glorot_uniform', activation='relu')(X)\n",
    "        B = LSTM(100, return_sequences=False, init='glorot_uniform', activation='relu', go_backwards=True)(X)\n",
    "        res = concatenate([A, B])\n",
    "        output = Dense(tag_vocab_size, activation = \"softmax\")(res) # time distributed  (sigmoid)\n",
    "        model = Model(inputs = X_input, outputs = output)\n",
    "        return model\n",
    "    \n",
    "    def predict_no_padding(self,X,Y):\n",
    "        if os.path.exists(self.model_path):\n",
    "            self.load(self.model_path)\n",
    "        preds = self.model.predict(X)\n",
    "        res_total = []\n",
    "        pre_total = []\n",
    "        res_intent = []\n",
    "        pre_intent = []\n",
    "        cpt = 0\n",
    "        p=0\n",
    "        for i,a in enumerate(Y):\n",
    "            t = np.argmax(a)\n",
    "            res_intent.append(t)\n",
    "            pre_intent.append(np.argmax(preds[i]))\n",
    "        \n",
    "        print(\"Accuracy intent :\",accuracy_score(res_intent,pre_intent))\n",
    "        print(\"F1 score intent :\",f1_score(res_intent,pre_intent,average='weighted'))"
   ]
  },
  {
   "cell_type": "code",
   "execution_count": 353,
   "metadata": {
    "collapsed": true
   },
   "outputs": [],
   "source": [
    "corpus3 = Corpus3()"
   ]
  },
  {
   "cell_type": "code",
   "execution_count": 338,
   "metadata": {},
   "outputs": [
    {
     "data": {
      "text/plain": [
       "array([0, 0, 0, 0, 0, 0, 0, 0, 0, 0, 0, 0, 0, 0, 0, 0, 0, 0, 0, 0, 0, 0,\n",
       "       0, 0, 0, 0, 0, 2, 2, 2, 2, 2, 2, 2, 2, 2, 2, 2, 2, 2, 2, 2, 2, 2,\n",
       "       2, 2, 2], dtype=int32)"
      ]
     },
     "execution_count": 338,
     "metadata": {},
     "output_type": "execute_result"
    }
   ],
   "source": [
    "max_len  = max([ len(x) for x in  corpus3.train.utterances])\n",
    "vocab_size = len(corpus3.dictionary.word2idx)\n",
    "tag_vocab_size = len(corpus3.dictionary.tag2idx)\n",
    "embedding_size = 50\n",
    "corpus3.train.pad_utts(time_length=max_len)\n",
    "corpus3.train.pad_tags(time_length=max_len)\n",
    "corpus3.valid.pad_utts(time_length=max_len)\n",
    "corpus3.valid.pad_tags(time_length=max_len)\n",
    "corpus3.test.pad_utts(time_length=max_len)\n",
    "corpus3.test.pad_tags(time_length=max_len)[0]"
   ]
  },
  {
   "cell_type": "code",
   "execution_count": 339,
   "metadata": {
    "collapsed": true
   },
   "outputs": [],
   "source": [
    "X_train = corpus3.train.padded_utterances\n",
    "X_valid = corpus3.valid.padded_utterances\n",
    "X_test = corpus3.test.padded_utterances"
   ]
  },
  {
   "cell_type": "code",
   "execution_count": 340,
   "metadata": {},
   "outputs": [
    {
     "name": "stdout",
     "output_type": "stream",
     "text": [
      "Train shape (4478, 47)\n",
      "Dev shape (500, 47)\n",
      "Test shape (893, 47)\n"
     ]
    }
   ],
   "source": [
    "print(\"Train shape \" + str(X_train.shape))\n",
    "print(\"Dev shape \" + str(X_valid.shape))\n",
    "print(\"Test shape \" + str(X_test.shape))"
   ]
  },
  {
   "cell_type": "code",
   "execution_count": 341,
   "metadata": {
    "collapsed": true
   },
   "outputs": [],
   "source": [
    "Y_train = corpus3.train.get_one_hot_tags(tag_vocab_size)\n",
    "Y_valid = corpus3.valid.get_one_hot_tags(tag_vocab_size)\n",
    "Y_test = corpus3.test.get_one_hot_tags(tag_vocab_size)"
   ]
  },
  {
   "cell_type": "code",
   "execution_count": 342,
   "metadata": {},
   "outputs": [
    {
     "name": "stdout",
     "output_type": "stream",
     "text": [
      "Train label shape (4478, 47, 23)\n",
      "Dev label shape (500, 47, 23)\n",
      "Test label shape (893, 47, 23)\n"
     ]
    }
   ],
   "source": [
    "print(\"Train label shape \" + str(Y_train.shape))\n",
    "print(\"Dev label shape \" + str(Y_valid.shape))\n",
    "print(\"Test label shape \" + str(Y_test.shape))"
   ]
  },
  {
   "cell_type": "code",
   "execution_count": 357,
   "metadata": {},
   "outputs": [
    {
     "name": "stderr",
     "output_type": "stream",
     "text": [
      "/home/startup/anaconda3/lib/python3.6/site-packages/ipykernel_launcher.py:9: UserWarning: Update your `LSTM` call to the Keras 2 API: `LSTM(100, return_sequences=False, activation=\"relu\", kernel_initializer=\"glorot_uniform\")`\n",
      "  if __name__ == '__main__':\n",
      "/home/startup/anaconda3/lib/python3.6/site-packages/ipykernel_launcher.py:10: UserWarning: Update your `LSTM` call to the Keras 2 API: `LSTM(100, return_sequences=False, activation=\"relu\", go_backwards=True, kernel_initializer=\"glorot_uniform\")`\n",
      "  # Remove the CWD from sys.path while we load stuff.\n"
     ]
    },
    {
     "name": "stdout",
     "output_type": "stream",
     "text": [
      "__________________________________________________________________________________________________\n",
      "Layer (type)                    Output Shape         Param #     Connected to                     \n",
      "==================================================================================================\n",
      "input_59 (InputLayer)           (None, 47)           0                                            \n",
      "__________________________________________________________________________________________________\n",
      "embedding_59 (Embedding)        (None, 47, 50)       43500       input_59[0][0]                   \n",
      "__________________________________________________________________________________________________\n",
      "lstm_13 (LSTM)                  (None, 100)          60400       embedding_59[0][0]               \n",
      "__________________________________________________________________________________________________\n",
      "lstm_14 (LSTM)                  (None, 100)          60400       embedding_59[0][0]               \n",
      "__________________________________________________________________________________________________\n",
      "concatenate_51 (Concatenate)    (None, 200)          0           lstm_13[0][0]                    \n",
      "                                                                 lstm_14[0][0]                    \n",
      "__________________________________________________________________________________________________\n",
      "dense_56 (Dense)                (None, 23)           4623        concatenate_51[0][0]             \n",
      "==================================================================================================\n",
      "Total params: 168,923\n",
      "Trainable params: 168,923\n",
      "Non-trainable params: 0\n",
      "__________________________________________________________________________________________________\n"
     ]
    }
   ],
   "source": [
    "model_blstm = BidirectionalLSTMModel(vocab_size,tag_vocab_size,max_len,embedding_size,corpus3.dictionary.idx2tag,\"blstm_model\")"
   ]
  },
  {
   "cell_type": "code",
   "execution_count": 344,
   "metadata": {},
   "outputs": [
    {
     "name": "stdout",
     "output_type": "stream",
     "text": [
      "Train on 4478 samples, validate on 500 samples\n",
      "Epoch 1/10\n",
      "4478/4478 [==============================] - 33s 7ms/step - loss: 1.4361 - acc: 0.7327 - f1: 0.6030 - recall: 0.5393 - precision: 0.7204 - val_loss: 0.9973 - val_acc: 0.7140 - val_f1: 0.7534 - val_recall: 0.6960 - val_precision: 0.8245\n",
      "Epoch 2/10\n",
      "4478/4478 [==============================] - 25s 6ms/step - loss: 0.8168 - acc: 0.7711 - f1: 0.8010 - recall: 0.7186 - precision: 0.9124 - val_loss: 0.7722 - val_acc: 0.7980 - val_f1: 0.8085 - val_recall: 0.7480 - val_precision: 0.8819\n",
      "Epoch 3/10\n",
      "4478/4478 [==============================] - 24s 5ms/step - loss: 0.5201 - acc: 0.8691 - f1: 0.8838 - recall: 0.8247 - precision: 0.9550 - val_loss: 0.5388 - val_acc: 0.8480 - val_f1: 0.8786 - val_recall: 0.8260 - val_precision: 0.9410\n",
      "Epoch 4/10\n",
      "4478/4478 [==============================] - 25s 6ms/step - loss: 0.4017 - acc: 0.8928 - f1: 0.9091 - recall: 0.8553 - precision: 0.9738 - val_loss: 0.4815 - val_acc: 0.8600 - val_f1: 0.8853 - val_recall: 0.8200 - val_precision: 0.9647\n",
      "Epoch 5/10\n",
      "4478/4478 [==============================] - 27s 6ms/step - loss: 0.3241 - acc: 0.9091 - f1: 0.9253 - recall: 0.8781 - precision: 0.9795 - val_loss: 0.4217 - val_acc: 0.8880 - val_f1: 0.8999 - val_recall: 0.8580 - val_precision: 0.9472\n",
      "Epoch 6/10\n",
      "4478/4478 [==============================] - 24s 5ms/step - loss: 0.2658 - acc: 0.9303 - f1: 0.9347 - recall: 0.8937 - precision: 0.9811 - val_loss: 0.3690 - val_acc: 0.9040 - val_f1: 0.9087 - val_recall: 0.8640 - val_precision: 0.9597\n",
      "Epoch 7/10\n",
      "4478/4478 [==============================] - 25s 6ms/step - loss: 0.2019 - acc: 0.9486 - f1: 0.9522 - recall: 0.9218 - precision: 0.9859 - val_loss: 0.3194 - val_acc: 0.9300 - val_f1: 0.9308 - val_recall: 0.9000 - val_precision: 0.9653\n",
      "Epoch 8/10\n",
      "4478/4478 [==============================] - 24s 5ms/step - loss: 0.1892 - acc: 0.9576 - f1: 0.9614 - recall: 0.9399 - precision: 0.9846 - val_loss: 0.6285 - val_acc: 0.8620 - val_f1: 0.8628 - val_recall: 0.8280 - val_precision: 0.9017\n",
      "Epoch 9/10\n",
      "4478/4478 [==============================] - 24s 5ms/step - loss: 0.1703 - acc: 0.9614 - f1: 0.9641 - recall: 0.9446 - precision: 0.9850 - val_loss: 0.3129 - val_acc: 0.9480 - val_f1: 0.9460 - val_recall: 0.9240 - val_precision: 0.9709\n",
      "Epoch 10/10\n",
      "4478/4478 [==============================] - 26s 6ms/step - loss: 0.1076 - acc: 0.9759 - f1: 0.9760 - recall: 0.9616 - precision: 0.9912 - val_loss: 0.3276 - val_acc: 0.9520 - val_f1: 0.9509 - val_recall: 0.9360 - val_precision: 0.9668\n"
     ]
    }
   ],
   "source": [
    "model_blstm.fit(X_train,Y_train[:,-1:].reshape(-1,23),X_valid,Y_valid[:,-1:].reshape(-1,23))"
   ]
  },
  {
   "cell_type": "code",
   "execution_count": 358,
   "metadata": {},
   "outputs": [
    {
     "name": "stdout",
     "output_type": "stream",
     "text": [
      "Accuracy intent : 0.9137737961926092\n",
      "F1 score intent : 0.9001609567022054\n"
     ]
    },
    {
     "name": "stderr",
     "output_type": "stream",
     "text": [
      "/home/startup/anaconda3/lib/python3.6/site-packages/sklearn/metrics/classification.py:1135: UndefinedMetricWarning: F-score is ill-defined and being set to 0.0 in labels with no predicted samples.\n",
      "  'precision', 'predicted', average, warn_for)\n"
     ]
    }
   ],
   "source": [
    "model_blstm.predict_no_padding(X_test,Y_test[:,-1:].reshape(-1,23))"
   ]
  },
  {
   "cell_type": "code",
   "execution_count": 348,
   "metadata": {},
   "outputs": [
    {
     "name": "stdout",
     "output_type": "stream",
     "text": [
      "893/893 [==============================] - 2s 2ms/step\n",
      "accuracy = 0.9137737963261022 - f1-score = 0.9188316395675215 - recall = 0.891377379752754 - precision = 0.950968141518408\n"
     ]
    }
   ],
   "source": [
    "model_blstm.evaluate(X_test,Y_test[:,-1:].reshape(-1,23))"
   ]
  }
 ],
 "metadata": {
  "kernelspec": {
   "display_name": "Python 3",
   "language": "python",
   "name": "python3"
  },
  "language_info": {
   "codemirror_mode": {
    "name": "ipython",
    "version": 3
   },
   "file_extension": ".py",
   "mimetype": "text/x-python",
   "name": "python",
   "nbconvert_exporter": "python",
   "pygments_lexer": "ipython3",
   "version": "3.6.3"
  }
 },
 "nbformat": 4,
 "nbformat_minor": 2
}
